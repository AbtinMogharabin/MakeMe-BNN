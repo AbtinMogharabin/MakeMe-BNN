{
  "cells": [
    {
      "cell_type": "markdown",
      "metadata": {
        "id": "jBXHs2m0APxl"
      },
      "source": [
        "# Implemenation of Make Me a BNN\n"
      ]
    },
    {
      "cell_type": "markdown",
      "metadata": {
        "id": "NW9xd8Xc3UqB"
      },
      "source": [
        "## Import libraries"
      ]
    },
    {
      "cell_type": "markdown",
      "metadata": {},
      "source": [
        "### Install Missing Packages"
      ]
    },
    {
      "cell_type": "code",
      "execution_count": 1,
      "metadata": {
        "id": "Wvc77o82xGwt"
      },
      "outputs": [
        {
          "name": "stdout",
          "output_type": "stream",
          "text": [
            "Requirement already satisfied: netcal in /home/abduallah_damash/project/ceng502/venv/lib/python3.10/site-packages (1.3.5)\n",
            "Requirement already satisfied: numpy>=1.18 in /home/abduallah_damash/project/ceng502/venv/lib/python3.10/site-packages (from netcal) (1.26.4)\n",
            "Requirement already satisfied: scipy>=1.4 in /home/abduallah_damash/project/ceng502/venv/lib/python3.10/site-packages (from netcal) (1.13.1)\n",
            "Requirement already satisfied: matplotlib>=3.3 in /home/abduallah_damash/project/ceng502/venv/lib/python3.10/site-packages (from netcal) (3.9.0)\n",
            "Requirement already satisfied: scikit-learn>=0.24 in /home/abduallah_damash/project/ceng502/venv/lib/python3.10/site-packages (from netcal) (1.5.0)\n",
            "Requirement already satisfied: torch>=1.9 in /home/abduallah_damash/project/ceng502/venv/lib/python3.10/site-packages (from netcal) (2.3.0)\n",
            "Requirement already satisfied: torchvision>=0.10.0 in /home/abduallah_damash/project/ceng502/venv/lib/python3.10/site-packages (from netcal) (0.18.0)\n",
            "Requirement already satisfied: tqdm>=4.40 in /home/abduallah_damash/project/ceng502/venv/lib/python3.10/site-packages (from netcal) (4.66.4)\n",
            "Requirement already satisfied: pyro-ppl>=1.8 in /home/abduallah_damash/project/ceng502/venv/lib/python3.10/site-packages (from netcal) (1.9.0)\n",
            "Requirement already satisfied: tikzplotlib==0.9.8 in /home/abduallah_damash/project/ceng502/venv/lib/python3.10/site-packages (from netcal) (0.9.8)\n",
            "Requirement already satisfied: tensorboard>=2.2 in /home/abduallah_damash/project/ceng502/venv/lib/python3.10/site-packages (from netcal) (2.16.2)\n",
            "Requirement already satisfied: gpytorch>=1.5.1 in /home/abduallah_damash/project/ceng502/venv/lib/python3.10/site-packages (from netcal) (1.11)\n",
            "Requirement already satisfied: Pillow in /home/abduallah_damash/project/ceng502/venv/lib/python3.10/site-packages (from tikzplotlib==0.9.8->netcal) (10.3.0)\n",
            "Requirement already satisfied: linear-operator>=0.5.0 in /home/abduallah_damash/project/ceng502/venv/lib/python3.10/site-packages (from gpytorch>=1.5.1->netcal) (0.5.2)\n",
            "Requirement already satisfied: contourpy>=1.0.1 in /home/abduallah_damash/project/ceng502/venv/lib/python3.10/site-packages (from matplotlib>=3.3->netcal) (1.2.1)\n",
            "Requirement already satisfied: cycler>=0.10 in /home/abduallah_damash/project/ceng502/venv/lib/python3.10/site-packages (from matplotlib>=3.3->netcal) (0.12.1)\n",
            "Requirement already satisfied: fonttools>=4.22.0 in /home/abduallah_damash/project/ceng502/venv/lib/python3.10/site-packages (from matplotlib>=3.3->netcal) (4.52.4)\n",
            "Requirement already satisfied: kiwisolver>=1.3.1 in /home/abduallah_damash/project/ceng502/venv/lib/python3.10/site-packages (from matplotlib>=3.3->netcal) (1.4.5)\n",
            "Requirement already satisfied: packaging>=20.0 in /home/abduallah_damash/project/ceng502/venv/lib/python3.10/site-packages (from matplotlib>=3.3->netcal) (24.0)\n",
            "Requirement already satisfied: pyparsing>=2.3.1 in /home/abduallah_damash/project/ceng502/venv/lib/python3.10/site-packages (from matplotlib>=3.3->netcal) (3.1.2)\n",
            "Requirement already satisfied: python-dateutil>=2.7 in /home/abduallah_damash/project/ceng502/venv/lib/python3.10/site-packages (from matplotlib>=3.3->netcal) (2.9.0.post0)\n",
            "Requirement already satisfied: opt-einsum>=2.3.2 in /home/abduallah_damash/project/ceng502/venv/lib/python3.10/site-packages (from pyro-ppl>=1.8->netcal) (3.3.0)\n",
            "Requirement already satisfied: pyro-api>=0.1.1 in /home/abduallah_damash/project/ceng502/venv/lib/python3.10/site-packages (from pyro-ppl>=1.8->netcal) (0.1.2)\n",
            "Requirement already satisfied: joblib>=1.2.0 in /home/abduallah_damash/project/ceng502/venv/lib/python3.10/site-packages (from scikit-learn>=0.24->netcal) (1.4.2)\n",
            "Requirement already satisfied: threadpoolctl>=3.1.0 in /home/abduallah_damash/project/ceng502/venv/lib/python3.10/site-packages (from scikit-learn>=0.24->netcal) (3.5.0)\n",
            "Requirement already satisfied: absl-py>=0.4 in /home/abduallah_damash/project/ceng502/venv/lib/python3.10/site-packages (from tensorboard>=2.2->netcal) (2.1.0)\n",
            "Requirement already satisfied: grpcio>=1.48.2 in /home/abduallah_damash/project/ceng502/venv/lib/python3.10/site-packages (from tensorboard>=2.2->netcal) (1.64.0)\n",
            "Requirement already satisfied: markdown>=2.6.8 in /home/abduallah_damash/project/ceng502/venv/lib/python3.10/site-packages (from tensorboard>=2.2->netcal) (3.6)\n",
            "Requirement already satisfied: protobuf!=4.24.0,>=3.19.6 in /home/abduallah_damash/project/ceng502/venv/lib/python3.10/site-packages (from tensorboard>=2.2->netcal) (5.27.0)\n",
            "Requirement already satisfied: setuptools>=41.0.0 in /home/abduallah_damash/project/ceng502/venv/lib/python3.10/site-packages (from tensorboard>=2.2->netcal) (68.2.0)\n",
            "Requirement already satisfied: six>1.9 in /home/abduallah_damash/project/ceng502/venv/lib/python3.10/site-packages (from tensorboard>=2.2->netcal) (1.16.0)\n",
            "Requirement already satisfied: tensorboard-data-server<0.8.0,>=0.7.0 in /home/abduallah_damash/project/ceng502/venv/lib/python3.10/site-packages (from tensorboard>=2.2->netcal) (0.7.2)\n",
            "Requirement already satisfied: werkzeug>=1.0.1 in /home/abduallah_damash/project/ceng502/venv/lib/python3.10/site-packages (from tensorboard>=2.2->netcal) (3.0.3)\n",
            "Requirement already satisfied: filelock in /home/abduallah_damash/project/ceng502/venv/lib/python3.10/site-packages (from torch>=1.9->netcal) (3.14.0)\n",
            "Requirement already satisfied: typing-extensions>=4.8.0 in /home/abduallah_damash/project/ceng502/venv/lib/python3.10/site-packages (from torch>=1.9->netcal) (4.12.0)\n",
            "Requirement already satisfied: sympy in /home/abduallah_damash/project/ceng502/venv/lib/python3.10/site-packages (from torch>=1.9->netcal) (1.12)\n",
            "Requirement already satisfied: networkx in /home/abduallah_damash/project/ceng502/venv/lib/python3.10/site-packages (from torch>=1.9->netcal) (3.3)\n",
            "Requirement already satisfied: jinja2 in /home/abduallah_damash/project/ceng502/venv/lib/python3.10/site-packages (from torch>=1.9->netcal) (3.1.4)\n",
            "Requirement already satisfied: fsspec in /home/abduallah_damash/project/ceng502/venv/lib/python3.10/site-packages (from torch>=1.9->netcal) (2024.5.0)\n",
            "Requirement already satisfied: nvidia-cuda-nvrtc-cu12==12.1.105 in /home/abduallah_damash/project/ceng502/venv/lib/python3.10/site-packages (from torch>=1.9->netcal) (12.1.105)\n",
            "Requirement already satisfied: nvidia-cuda-runtime-cu12==12.1.105 in /home/abduallah_damash/project/ceng502/venv/lib/python3.10/site-packages (from torch>=1.9->netcal) (12.1.105)\n",
            "Requirement already satisfied: nvidia-cuda-cupti-cu12==12.1.105 in /home/abduallah_damash/project/ceng502/venv/lib/python3.10/site-packages (from torch>=1.9->netcal) (12.1.105)\n",
            "Requirement already satisfied: nvidia-cudnn-cu12==8.9.2.26 in /home/abduallah_damash/project/ceng502/venv/lib/python3.10/site-packages (from torch>=1.9->netcal) (8.9.2.26)\n",
            "Requirement already satisfied: nvidia-cublas-cu12==12.1.3.1 in /home/abduallah_damash/project/ceng502/venv/lib/python3.10/site-packages (from torch>=1.9->netcal) (12.1.3.1)\n",
            "Requirement already satisfied: nvidia-cufft-cu12==11.0.2.54 in /home/abduallah_damash/project/ceng502/venv/lib/python3.10/site-packages (from torch>=1.9->netcal) (11.0.2.54)\n",
            "Requirement already satisfied: nvidia-curand-cu12==10.3.2.106 in /home/abduallah_damash/project/ceng502/venv/lib/python3.10/site-packages (from torch>=1.9->netcal) (10.3.2.106)\n",
            "Requirement already satisfied: nvidia-cusolver-cu12==11.4.5.107 in /home/abduallah_damash/project/ceng502/venv/lib/python3.10/site-packages (from torch>=1.9->netcal) (11.4.5.107)\n",
            "Requirement already satisfied: nvidia-cusparse-cu12==12.1.0.106 in /home/abduallah_damash/project/ceng502/venv/lib/python3.10/site-packages (from torch>=1.9->netcal) (12.1.0.106)\n",
            "Requirement already satisfied: nvidia-nccl-cu12==2.20.5 in /home/abduallah_damash/project/ceng502/venv/lib/python3.10/site-packages (from torch>=1.9->netcal) (2.20.5)\n",
            "Requirement already satisfied: nvidia-nvtx-cu12==12.1.105 in /home/abduallah_damash/project/ceng502/venv/lib/python3.10/site-packages (from torch>=1.9->netcal) (12.1.105)\n",
            "Requirement already satisfied: triton==2.3.0 in /home/abduallah_damash/project/ceng502/venv/lib/python3.10/site-packages (from torch>=1.9->netcal) (2.3.0)\n",
            "Requirement already satisfied: nvidia-nvjitlink-cu12 in /home/abduallah_damash/project/ceng502/venv/lib/python3.10/site-packages (from nvidia-cusolver-cu12==11.4.5.107->torch>=1.9->netcal) (12.5.40)\n",
            "Requirement already satisfied: jaxtyping>=0.2.9 in /home/abduallah_damash/project/ceng502/venv/lib/python3.10/site-packages (from linear-operator>=0.5.0->gpytorch>=1.5.1->netcal) (0.2.29)\n",
            "Requirement already satisfied: typeguard~=2.13.3 in /home/abduallah_damash/project/ceng502/venv/lib/python3.10/site-packages (from linear-operator>=0.5.0->gpytorch>=1.5.1->netcal) (2.13.3)\n",
            "Requirement already satisfied: MarkupSafe>=2.1.1 in /home/abduallah_damash/project/ceng502/venv/lib/python3.10/site-packages (from werkzeug>=1.0.1->tensorboard>=2.2->netcal) (2.1.5)\n",
            "Requirement already satisfied: mpmath>=0.19 in /home/abduallah_damash/project/ceng502/venv/lib/python3.10/site-packages (from sympy->torch>=1.9->netcal) (1.3.0)\n",
            "\n",
            "\u001b[1m[\u001b[0m\u001b[34;49mnotice\u001b[0m\u001b[1;39;49m]\u001b[0m\u001b[39;49m A new release of pip is available: \u001b[0m\u001b[31;49m23.2.1\u001b[0m\u001b[39;49m -> \u001b[0m\u001b[32;49m24.0\u001b[0m\n",
            "\u001b[1m[\u001b[0m\u001b[34;49mnotice\u001b[0m\u001b[1;39;49m]\u001b[0m\u001b[39;49m To update, run: \u001b[0m\u001b[32;49mpip install --upgrade pip\u001b[0m\n",
            "Requirement already satisfied: torchsummary in /home/abduallah_damash/project/ceng502/venv/lib/python3.10/site-packages (1.5.1)\n",
            "\n",
            "\u001b[1m[\u001b[0m\u001b[34;49mnotice\u001b[0m\u001b[1;39;49m]\u001b[0m\u001b[39;49m A new release of pip is available: \u001b[0m\u001b[31;49m23.2.1\u001b[0m\u001b[39;49m -> \u001b[0m\u001b[32;49m24.0\u001b[0m\n",
            "\u001b[1m[\u001b[0m\u001b[34;49mnotice\u001b[0m\u001b[1;39;49m]\u001b[0m\u001b[39;49m To update, run: \u001b[0m\u001b[32;49mpip install --upgrade pip\u001b[0m\n"
          ]
        }
      ],
      "source": [
        "!pip install netcal\n",
        "!pip install torchsummary"
      ]
    },
    {
      "cell_type": "markdown",
      "metadata": {},
      "source": [
        "### Import Used Libs"
      ]
    },
    {
      "cell_type": "code",
      "execution_count": 2,
      "metadata": {
        "id": "REotBNCV3UqO"
      },
      "outputs": [],
      "source": [
        "import torch\n",
        "import torch.nn as nn\n",
        "import torch.optim as optim\n",
        "import torchvision\n",
        "import torchvision.transforms as transforms\n",
        "import matplotlib.pyplot as plt\n",
        "import time\n",
        "import os\n",
        "import numpy as np\n",
        "from torchsummary import summary\n",
        "from torch.nn.functional import softmax\n",
        "import torch.nn.functional as F\n",
        "import netcal.metrics as metrics\n",
        "from netcal.metrics import ECE\n",
        "from sklearn.metrics import precision_recall_curve, auc, roc_auc_score, roc_curve\n",
        "from torch.utils.data import random_split\n",
        "import multiprocessing\n",
        "from sklearn.metrics import f1_score\n",
        "from torch.utils.data import DataLoader\n",
        "from torchvision import datasets"
      ]
    },
    {
      "cell_type": "markdown",
      "metadata": {},
      "source": [
        "### Import Custom Libs"
      ]
    },
    {
      "cell_type": "code",
      "execution_count": null,
      "metadata": {},
      "outputs": [],
      "source": [
        "import sys\n",
        "# Get the current working directory of the notebook\n",
        "current_dir = os.path.dirname(os.path.abspath('__file__'))\n",
        "print(f\"current dir is {current_dir}\")\n",
        "# Add the ABNN and 'Simple CNN Demo' directories to the Python path\n",
        "abnn_dir = os.path.abspath(os.path.join(current_dir, './MakeMe-BNN/ABNN'))\n",
        "print(f\"ABNN dir is {abnn_dir}\")\n",
        "if abnn_dir not in sys.path:\n",
        "    sys.path.insert(0, abnn_dir)\n",
        "\n",
        "# Now import the necessary modules\n",
        "from ABNN.map import CustomMAPLoss\n",
        "from ABNN.bnl import BNL\n",
        "from ABNN.datasets.cifar10 import prepare_cifar10_data\n",
        "from ABNN.datasets.bddanomaly import prepare_bddanomaly_data\n",
        "from ABNN.datasets.streethazards import prepare_sh_data\n",
        "from ABNN.datasets.cifar100 import prepare_cifar100_data\n",
        "from ABNN.datasets.svhn import prepare_svhn_data\n",
        "from ABNN.deep_learning_models.resnet import ResNet, Bottleneck\n",
        "from ABNN.deep_learning_models.deeplabv3plus_resnet50 import deeplabv3plus_resnet50\n",
        "from ABNN.deep_learning_models.vit import ViT\n",
        "from ABNN.deep_learning_models.wide_resnet18_10 import Wide_ResNet\n",
        "from ABNN.test_and_eval import test_model_with_metrics\n",
        "from ABNN.train import train_model\n"
      ]
    },
    {
      "cell_type": "markdown",
      "metadata": {},
      "source": [
        "### Set the device Usage:"
      ]
    },
    {
      "cell_type": "code",
      "execution_count": null,
      "metadata": {},
      "outputs": [],
      "source": [
        "multiprocessing.set_start_method('forkserver', force=True)\n",
        "os.environ['CUDA_LAUNCH_BLOCKING'] = '1'\n",
        "device = torch.device(\"cuda\" if torch.cuda.is_available() else \"cpu\")\n",
        "print(device)\n",
        "torch.backends.cudnn.benchmark = True"
      ]
    },
    {
      "cell_type": "markdown",
      "metadata": {
        "id": "AoXdUp79d8CL"
      },
      "source": [
        "##  Dataset"
      ]
    },
    {
      "cell_type": "markdown",
      "metadata": {
        "id": "XFwNb7Gf3UqR"
      },
      "source": [
        "### Load and Augment CIFAR-10 and CIFAR100"
      ]
    },
    {
      "cell_type": "markdown",
      "metadata": {
        "id": "uyQVyB3oCizi"
      },
      "source": [
        "Similar to the paper, only used:\n",
        "- Horizontal Flip for data augmentation.\n",
        "- Batch size as 128."
      ]
    },
    {
      "cell_type": "markdown",
      "metadata": {},
      "source": [
        "#### Load the CIFAR10 dataset"
      ]
    },
    {
      "cell_type": "code",
      "execution_count": null,
      "metadata": {
        "colab": {
          "base_uri": "https://localhost:8080/"
        },
        "id": "mSmx1nli3UqS",
        "outputId": "e4050327-9011-4833-8df4-9af7382bf900"
      },
      "outputs": [],
      "source": [
        "# load all data\n",
        "trainloader10, validloader10, testloader10 = prepare_cifar10_data()\n"
      ]
    },
    {
      "cell_type": "markdown",
      "metadata": {},
      "source": [
        "#### Load the CIFAR100 dataset"
      ]
    },
    {
      "cell_type": "code",
      "execution_count": null,
      "metadata": {},
      "outputs": [],
      "source": [
        "trainloader100, validloader100, testloader100 = prepare_cifar100_data()"
      ]
    },
    {
      "cell_type": "markdown",
      "metadata": {},
      "source": [
        "#### Load the SVHN dataset"
      ]
    },
    {
      "cell_type": "code",
      "execution_count": null,
      "metadata": {},
      "outputs": [],
      "source": [
        "trainloader_svhn, validloader_svhn, testloader_svhn = prepare_svhn_data()\n"
      ]
    },
    {
      "cell_type": "markdown",
      "metadata": {},
      "source": [
        "#### Load the BDDAnomaly dataset"
      ]
    },
    {
      "cell_type": "code",
      "execution_count": null,
      "metadata": {},
      "outputs": [],
      "source": [
        "trainloader_bddanomaly, validloader_bddanomaly, testloader_bddanomaly = prepare_bddanomaly_data()"
      ]
    },
    {
      "cell_type": "markdown",
      "metadata": {},
      "source": [
        "#### Load the StreetHazards dataset"
      ]
    },
    {
      "cell_type": "code",
      "execution_count": null,
      "metadata": {},
      "outputs": [],
      "source": [
        "trainloader_sh, validloader_sh, testloader_sh = prepare_sh_data()"
      ]
    },
    {
      "cell_type": "markdown",
      "metadata": {
        "id": "AL7gMgK93UqT"
      },
      "source": [
        "## Define the DL model"
      ]
    },
    {
      "cell_type": "markdown",
      "metadata": {},
      "source": [
        "### Define ResNen Model\n",
        "\n",
        "- It can be used as ResNet18, ResNet34, ResNet50, ResNet101, ResNet152\n",
        "- Added a dropout layer with P=0.3 to prevent overfitting. \n",
        "\n",
        "it is under [this path](ABNN/deep_learning_models/resnet.py)"
      ]
    },
    {
      "cell_type": "markdown",
      "metadata": {},
      "source": [
        "### Define WideResNen18-28 Model\n",
        "\n",
        "\n",
        "it is under [this path](ABNN/deep_learning_models/wide_resnet18_10.py)"
      ]
    },
    {
      "cell_type": "markdown",
      "metadata": {},
      "source": [
        "### Define Vit Model\n",
        "\n",
        "\n",
        "it is under [this path](ABNN/deep_learning_models/vit.py)"
      ]
    },
    {
      "cell_type": "markdown",
      "metadata": {},
      "source": [
        "### Define DeepLabV3+ Model\n",
        "\n",
        "\n",
        "it is under [this path](ABNN/deep_learning_models/deeplabv3plus_resnet50.py)"
      ]
    },
    {
      "cell_type": "markdown",
      "metadata": {},
      "source": [
        "## Define Training and Tesing Loops"
      ]
    },
    {
      "cell_type": "markdown",
      "metadata": {},
      "source": [
        "### Training Loop:\n",
        "\n",
        "The `train_model` function is a versatile training loop designed for PyTorch models, providing flexibility in selecting optimizers, loss functions, and various hyperparameters. Here's a brief description of its key features and how it utilizes different parameters:\n",
        "\n",
        "1. **Optimizer Selection**:\n",
        "   - The function allows the choice between 'SGD' (Stochastic Gradient Descent) and 'Adam' optimizers via the `Optimizer_type` parameter. This is achieved by checking the value of `Optimizer_type` and initializing the respective optimizer with the specified `learning_rate`, `Weight_decay`, and `Momentum` (for SGD).\n",
        "\n",
        "2. **Loss Function Selection**:\n",
        "   - The function supports multiple loss functions, including 'CrossEntropyLoss', 'MSELoss', and a custom loss function 'CustomMAPLoss'. The appropriate loss function is selected based on the `Loss_fn` parameter. For 'CustomMAPLoss', the `Num_classes` and `Weight_decay` parameters are used for initialization.\n",
        "\n",
        "3. **Learning Rate Scheduler**:\n",
        "   - A MultiStepLR scheduler is used to adjust the learning rate at specified milestones. The `milestones` parameter defines the epochs at which the learning rate is reduced by a factor specified by `gamma_lr`.\n",
        "\n",
        "4. **Training and Validation Loop**:\n",
        "   - The function contains a standard training loop where it iterates over the training dataset, computes the loss, performs backpropagation, and updates the model parameters.\n",
        "   - After each epoch, the model is evaluated on the validation dataset, and the average validation loss is computed and stored.\n",
        "\n",
        "5. **Hyperparameters**:\n",
        "   - Various hyperparameters such as `epochs`, `learning_rate`, `Weight_decay`, `Momentum`, and `Num_classes` can be adjusted to fine-tune the training process according to specific needs.\n",
        "\n",
        "6. **Model Saving**:\n",
        "   - The trained model's state dictionary is saved to a specified path (`save_path`) after the training is complete.\n",
        "\n",
        "7. **Loss Visualization**:\n",
        "   - The function plots the training and validation losses over epochs for easy visualization of the model's performance.\n",
        "\n",
        "\n",
        "This design provides flexibility and ease of experimentation with different training configurations, making it suitable for various deep learning tasks."
      ]
    },
    {
      "cell_type": "markdown",
      "metadata": {},
      "source": [
        "### Testing Loop:\n",
        "#### Description:\n",
        "\n",
        "The `test_model_with_metrics` function evaluates a neural network model on a test dataset, providing flexibility to calculate various performance metrics and uncertainty measures based on the provided flags. This function is designed to offer a comprehensive evaluation with a single loop over the test data, ensuring efficient computation.\n",
        "\n",
        "#### Functionality:\n",
        "1. Model Loading: Loads the model state from the specified path and sets the model to evaluation mode.\n",
        "2. Single Test Loop: Iterates over the test dataset once to compute the required metrics.\n",
        "4. Uncertainty Calculation: Computes the average uncertainty (variance) for each class if `calculate_uncert` is enabled.\n",
        "5. Negative Log-Likelihood: Computes and prints the NLL if `calculate_nll_loss` is enabled.\n",
        "6. Expected Calibration Error: Computes and prints the ECE if `calculate_ece_error` is enabled.\n",
        "7. Precision-Recall AUC: Computes and prints the mean AUPR if `calculate_auprc` is enabled.\n",
        "8. ROC AUC: Computes and prints the mean AUC if `calculate_auc_roc` is enabled.\n",
        "9. FPR at 95% TPR: Computes and prints the mean FPR at 95% TPR if `calculate_fpr_95` is enabled.\n",
        "10. Parameter Counting: Counts and prints the number of trainable parameters if `count_params` is enabled.\n",
        "11. Uncertainty Plotting: Plots the uncertainty for different classes if `plot_uncert` is enabled.\n",
        "12. Ensemble Prediction: Uses an ensemble of models for prediction if `predict_uncert` is enabled, calculating accuracy and variance.\n",
        "\n",
        "This function ensures a flexible and efficient evaluation of the model, accommodating various metrics and uncertainty assessments as needed.\n",
        "\"\"\""
      ]
    },
    {
      "cell_type": "markdown",
      "metadata": {},
      "source": [
        "## Implemantion"
      ]
    },
    {
      "cell_type": "markdown",
      "metadata": {},
      "source": [
        "### ResNet50 on CIFAR10 "
      ]
    },
    {
      "cell_type": "code",
      "execution_count": null,
      "metadata": {
        "colab": {
          "base_uri": "https://localhost:8080/"
        },
        "id": "0tLyO2fhd3VK",
        "outputId": "605f643e-7c76-4c43-8d80-b34b8c4eae0b"
      },
      "outputs": [],
      "source": [
        "resnet50_cifr10 = ResNet(Bottleneck, [3, 4, 6, 3], num_classes=10)\n",
        "resnet50_cifr10.to(device)\n",
        "summary(resnet50_cifr10, (3, 32, 32))\n",
        "\n",
        "# Training the model\n",
        "train_losses, val_losses = train_model(\n",
        "    model=resnet50_cifr10, \n",
        "    train_loader=trainloader10, \n",
        "    val_loader=validloader10,\n",
        "    epochs=200, \n",
        "    learning_rate=0.1, \n",
        "    gamma_lr=0.2,\n",
        "    milestones=[60, 120, 160], \n",
        "    save_path='./resnet50_cifr10_dropout.pth', \n",
        "    Weight_decay=5e-4,\n",
        "    Momentum=0.9, \n",
        "    Optimizer_type='SGD',  \n",
        "    Loss_fn='CrossEntropyLoss',\n",
        "    Num_classes=10,\n",
        "    BNL_enable=False,\n",
        "    BNL_load_path='./resnet50_cifr10_dropout.pth'\n",
        ")\n",
        "\n",
        "# Testing the model with metrics\n",
        "test_model_with_metrics(\n",
        "    loss_fn=nn.CrossEntropyLoss(), \n",
        "    model=resnet50_cifr10, \n",
        "    test_loader=testloader10, \n",
        "    load_path=\"./resnet50_cifr10_dropout.pth\",\n",
        "    calculate_uncert=True, \n",
        "    calculate_nll_loss=True, \n",
        "    calculate_ece_error=True,\n",
        "    calculate_auprc=True, \n",
        "    calculate_auc_roc=True, \n",
        "    calculate_fpr_95=True, \n",
        "    count_params=True,\n",
        "    plot_uncert=False, \n",
        "    predict_uncert=False, \n",
        "    model_class=resnet50_cifr10.__class__, \n",
        "    models=[torch.load('./resnet50_cifr10_dropout.pth')],\n",
        "    num_samples=10, \n",
        "    num_classes=10\n",
        ")\n",
        "\n"
      ]
    },
    {
      "cell_type": "markdown",
      "metadata": {},
      "source": [
        "### ResNet50 on CIFAR100"
      ]
    },
    {
      "cell_type": "code",
      "execution_count": null,
      "metadata": {},
      "outputs": [],
      "source": [
        "resnet50_cifr100 = ResNet(Bottleneck, [3, 4, 6, 3], num_classes=100)\n",
        "resnet50_cifr100.to(device)\n",
        "summary(resnet50_cifr100, (3, 32, 32))\n",
        "\n",
        "# Training the model\n",
        "train_losses, val_losses = train_model(\n",
        "    model=resnet50_cifr100, \n",
        "    train_loader=trainloader100, \n",
        "    val_loader=validloader100,\n",
        "    epochs=200, \n",
        "    learning_rate=0.1, \n",
        "    gamma_lr=0.2,\n",
        "    milestones=[60, 120, 160], \n",
        "    save_path='./resnet50_cifr100_dropout.pth', \n",
        "    Weight_decay=5e-4,\n",
        "    Momentum=0.9, \n",
        "    Optimizer_type='SGD',  \n",
        "    Loss_fn='CrossEntropyLoss',\n",
        "    Num_classes=100,\n",
        "    BNL_enable=False,\n",
        "    BNL_load_path='./resnet50_cifr100_dropout.pth'\n",
        ")\n",
        "\n",
        "# Testing the model with metrics\n",
        "test_model_with_metrics(\n",
        "    loss_fn=nn.CrossEntropyLoss(), \n",
        "    model=resnet50_cifr100, \n",
        "    test_loader=testloader100, \n",
        "    load_path=\"./resnet50_cifr100_dropout.pth\",\n",
        "    calculate_uncert=True, \n",
        "    calculate_nll_loss=True, \n",
        "    calculate_ece_error=True,\n",
        "    calculate_auprc=True, \n",
        "    calculate_auc_roc=True, \n",
        "    calculate_fpr_95=True, \n",
        "    count_params=True,\n",
        "    plot_uncert=False, \n",
        "    predict_uncert=False, \n",
        "    model_class=resnet50_cifr100.__class__, \n",
        "    models=[torch.load('./resnet50_cifr100_dropout.pth')],\n",
        "    num_samples=100, \n",
        "    num_classes=100\n",
        ")\n",
        "\n"
      ]
    },
    {
      "cell_type": "markdown",
      "metadata": {},
      "source": [
        "### ResNet50 on CIFAR10 with ABNLL"
      ]
    },
    {
      "cell_type": "code",
      "execution_count": null,
      "metadata": {},
      "outputs": [],
      "source": [
        "resnet50_cifr10_bnl = ResNet(Bottleneck, [3, 4, 6, 3], num_classes=10,norm_layer=BNL)\n",
        "resnet50_cifr10_bnl.to(device)\n",
        "#summary(resnet50_cifr10_bnl.to(device), (3, 64, 64))\n",
        "\n",
        "# # Training the model\n",
        "train_losses, val_losses = train_model(\n",
        "    model=resnet50_cifr10_bnl.to(device), \n",
        "    train_loader=trainloader10, \n",
        "    val_loader=validloader10,\n",
        "    epochs=20, \n",
        "    learning_rate=0.1, \n",
        "    gamma_lr=0.2,\n",
        "    milestones=[60, 120, 160], \n",
        "    save_path='./resnet50_cifr10_bnl_dropout.pth', \n",
        "    Weight_decay=5e-4,\n",
        "    Momentum=0.9, \n",
        "    Optimizer_type='SGD',  \n",
        "    Loss_fn='CustomMAPLoss',\n",
        "    Num_classes=10,\n",
        "    BNL_enable=True,\n",
        "    BNL_load_path='./resnet50_cifr10_dropout.pth'\n",
        ")\n",
        "\n",
        "# Testing the model with metrics\n",
        "test_model_with_metrics(\n",
        "    loss_fn='CustomMAPLoss', \n",
        "    model=resnet50_cifr10_bnl, \n",
        "    test_loader=testloader10, \n",
        "    load_path=\"./resnet50_cifr10_bnl_dropout.pth\",\n",
        "    calculate_uncert=True, \n",
        "    calculate_nll_loss=True, \n",
        "    calculate_ece_error=True,\n",
        "    calculate_auprc=True, \n",
        "    calculate_auc_roc=True, \n",
        "    calculate_fpr_95=True, \n",
        "    count_params=True,\n",
        "    plot_uncert=False, \n",
        "    predict_uncert=False, \n",
        "    model_class=resnet50_cifr10_bnl.__class__, \n",
        "    models=[torch.load('./resnet50_cifr10_bnl_dropout.pth')],\n",
        "    num_samples=10, \n",
        "    num_classes=10,\n",
        "    Weight_decay=5e-4\n",
        ")\n",
        "\n"
      ]
    },
    {
      "cell_type": "markdown",
      "metadata": {},
      "source": [
        "### ResNet50 on CIFAR100 with ABNLL"
      ]
    },
    {
      "cell_type": "code",
      "execution_count": null,
      "metadata": {},
      "outputs": [],
      "source": [
        "resnet50_cifr100_bnl = ResNet(Bottleneck, [3, 4, 6, 3], num_classes=100,norm_layer=BNL)\n",
        "resnet50_cifr100_bnl.to(device)\n",
        "summary(resnet50_cifr100_bnl, (3, 32, 32))\n",
        "\n",
        "# Training the model\n",
        "train_losses, val_losses = train_model(\n",
        "    model=resnet50_cifr100_bnl, \n",
        "    train_loader=trainloader100, \n",
        "    val_loader=validloader100,\n",
        "    epochs=200, \n",
        "    learning_rate=0.1, \n",
        "    gamma_lr=0.2,\n",
        "    milestones=[60, 120, 160], \n",
        "    save_path='./resnet50_cifr100_bnl_dropout_no_closs.pth', \n",
        "    Weight_decay=5e-4,\n",
        "    Momentum=0.9, \n",
        "    Optimizer_type='SGD',  \n",
        "    Loss_fn='CrossEntropyLoss',\n",
        "    Num_classes=100,\n",
        "    BNL_enable=True,\n",
        "    BNL_load_path='./resnet50_cifr100_dropout.pth'\n",
        ")\n",
        "\n",
        "# Testing the model with metrics\n",
        "test_model_with_metrics(\n",
        "    loss_fn=nn.CrossEntropyLoss(), \n",
        "    model=resnet50_cifr100_bnl, \n",
        "    test_loader=testloader100, \n",
        "    load_path=\"./resnet50_cifr100_bnl_dropout_no_closs.pth\",\n",
        "    calculate_uncert=True, \n",
        "    calculate_nll_loss=True, \n",
        "    calculate_ece_error=True,\n",
        "    calculate_auprc=True, \n",
        "    calculate_auc_roc=True, \n",
        "    calculate_fpr_95=True, \n",
        "    count_params=True,\n",
        "    plot_uncert=False, \n",
        "    predict_uncert=False, \n",
        "    model_class=resnet50_cifr100_bnl.__class__, \n",
        "    models=[torch.load('./resnet50_cifr100_bnl_dropout_no_closs.pth')],\n",
        "    num_samples=100, \n",
        "    num_classes=100,\n",
        "    Weight_decay=5e-4\n",
        ")\n",
        "\n"
      ]
    },
    {
      "cell_type": "markdown",
      "metadata": {},
      "source": [
        "# ViT on Cifir10"
      ]
    },
    {
      "cell_type": "code",
      "execution_count": null,
      "metadata": {},
      "outputs": [],
      "source": [
        "vit_cifr10 = ViT()\n",
        "vit_cifr10.to(device)\n",
        "summary(vit_cifr10, (3, 32, 32))\n",
        "model_name = \"vit\"\n",
        "bnl_model_name = \"vit_bnl\"\n",
        "# Training the model\n",
        "train_losses, val_losses = train_model(\n",
        "    model=vit_cifr10, \n",
        "    train_loader=trainloader10, \n",
        "    val_loader=validloader10,\n",
        "    epochs=200, \n",
        "    learning_rate=0.1, \n",
        "    gamma_lr=0.2,\n",
        "    milestones=[60, 120, 160], \n",
        "    save_path=f'./{model_name}.pth', \n",
        "    Weight_decay=5e-4,\n",
        "    Momentum=0.9, \n",
        "    Optimizer_type='SGD',  \n",
        "    Loss_fn='CrossEntropyLoss',\n",
        "    Num_classes=10,\n",
        "    BNL_enable=False,\n",
        "    BNL_load_path=f'./{model_name}.pth'\n",
        ")\n",
        "\n",
        "# Testing the model with metrics\n",
        "test_model_with_metrics(\n",
        "    loss_fn=nn.CrossEntropyLoss(), \n",
        "    model=vit_cifr10, \n",
        "    test_loader=testloader10, \n",
        "    load_path=f'./{model_name}.pth',\n",
        "    calculate_uncert=True, \n",
        "    calculate_nll_loss=True, \n",
        "    calculate_ece_error=True,\n",
        "    calculate_auprc=True, \n",
        "    calculate_auc_roc=True, \n",
        "    calculate_fpr_95=True, \n",
        "    count_params=True,\n",
        "    plot_uncert=False, \n",
        "    predict_uncert=False, \n",
        "    model_class=vit_cifr10.__class__, \n",
        "    models=[torch.load(f'./{model_name}.pth')],\n",
        "    num_samples=10, \n",
        "    num_classes=10\n",
        ")\n"
      ]
    }
  ],
  "metadata": {
    "colab": {
      "collapsed_sections": [
        "jBXHs2m0APxl",
        "NW9xd8Xc3UqB",
        "AoXdUp79d8CL",
        "XFwNb7Gf3UqR",
        "AL7gMgK93UqT",
        "cS3UXMDZwmM4",
        "OhKKLx5JAnzq",
        "6S-mVSFzeH0b",
        "a1WXC6ajA2jg",
        "5CcSbEhOiTst",
        "IpQxUPVV6VPH",
        "YAas1qBvIovm",
        "IPppy_FS52vd",
        "HYV-mZuBIqJa",
        "f8W_F8G-IzbY",
        "to_mOzrTI2VV",
        "FpQrqv19I5gC",
        "DsCg3LDgI9zK",
        "BV9SutwYJAKV",
        "QGjM8OySfpR1"
      ],
      "provenance": []
    },
    "kernelspec": {
      "display_name": "Python 3",
      "language": "python",
      "name": "python3"
    },
    "language_info": {
      "codemirror_mode": {
        "name": "ipython",
        "version": 3
      },
      "file_extension": ".py",
      "mimetype": "text/x-python",
      "name": "python",
      "nbconvert_exporter": "python",
      "pygments_lexer": "ipython3",
      "version": "3.10.12"
    }
  },
  "nbformat": 4,
  "nbformat_minor": 0
}
