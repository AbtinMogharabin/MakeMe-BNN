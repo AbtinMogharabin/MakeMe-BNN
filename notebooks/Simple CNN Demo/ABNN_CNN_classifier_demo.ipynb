{
  "metadata": {
    "accelerator": "GPU",
    "colab": {
      "collapsed_sections": [
        "AoXdUp79d8CL",
        "AL7gMgK93UqT",
        "cS3UXMDZwmM4",
        "OhKKLx5JAnzq",
        "3LIQtXOFIWUd",
        "IpQxUPVV6VPH",
        "YAas1qBvIovm",
        "IPppy_FS52vd",
        "HYV-mZuBIqJa",
        "f8W_F8G-IzbY",
        "to_mOzrTI2VV",
        "FpQrqv19I5gC",
        "DsCg3LDgI9zK",
        "BV9SutwYJAKV",
        "e-67WomZ21Ua"
      ],
      "gpuType": "T4",
      "provenance": []
    },
    "kaggle": {
      "accelerator": "none",
      "dataSources": [],
      "isInternetEnabled": true,
      "language": "python",
      "sourceType": "notebook",
      "isGpuEnabled": false
    },
    "kernelspec": {
      "display_name": "Python 3",
      "name": "python3"
    },
    "language_info": {
      "codemirror_mode": {
        "name": "ipython",
        "version": 3
      },
      "file_extension": ".py",
      "mimetype": "text/x-python",
      "name": "python",
      "nbconvert_exporter": "python",
      "pygments_lexer": "ipython3",
      "version": "3.10.13"
    }
  },
  "nbformat_minor": 0,
  "nbformat": 4,
  "cells": [
    {
      "cell_type": "markdown",
      "source": [
        "# An implementation of Adaptive Bayesian Neural Networks (ABNN) for a basic CNN image classifier on CIFAR-10 dataset"
      ],
      "metadata": {
        "id": "jBXHs2m0APxl"
      }
    },
    {
      "cell_type": "markdown",
      "source": [
        "## Import libraries and datasets"
      ],
      "metadata": {
        "id": "NW9xd8Xc3UqB"
      }
    },
    {
      "cell_type": "code",
      "source": [
        "import random\n",
        "random.seed(42)"
      ],
      "metadata": {
        "id": "HN4DP_qhYRw_"
      },
      "execution_count": null,
      "outputs": []
    },
    {
      "cell_type": "code",
      "source": [
        "!pip install netcal\n",
        "!pip install torchsummary"
      ],
      "metadata": {
        "colab": {
          "base_uri": "https://localhost:8080/"
        },
        "id": "Wvc77o82xGwt",
        "outputId": "65a3f97c-b622-4349-d203-56aaba6eaf99",
        "execution": {
          "iopub.status.busy": "2024-06-05T14:01:23.202404Z",
          "iopub.execute_input": "2024-06-05T14:01:23.202860Z",
          "iopub.status.idle": "2024-06-05T14:02:03.705305Z",
          "shell.execute_reply.started": "2024-06-05T14:01:23.202827Z",
          "shell.execute_reply": "2024-06-05T14:02:03.703607Z"
        },
        "trusted": true
      },
      "execution_count": 1,
      "outputs": [
        {
          "output_type": "stream",
          "name": "stdout",
          "text": [
            "Requirement already satisfied: netcal in /usr/local/lib/python3.10/dist-packages (1.3.5)\n",
            "Requirement already satisfied: numpy>=1.18 in /usr/local/lib/python3.10/dist-packages (from netcal) (1.25.2)\n",
            "Requirement already satisfied: scipy>=1.4 in /usr/local/lib/python3.10/dist-packages (from netcal) (1.11.4)\n",
            "Requirement already satisfied: matplotlib>=3.3 in /usr/local/lib/python3.10/dist-packages (from netcal) (3.7.1)\n",
            "Requirement already satisfied: scikit-learn>=0.24 in /usr/local/lib/python3.10/dist-packages (from netcal) (1.2.2)\n",
            "Requirement already satisfied: torch>=1.9 in /usr/local/lib/python3.10/dist-packages (from netcal) (2.3.0+cu121)\n",
            "Requirement already satisfied: torchvision>=0.10.0 in /usr/local/lib/python3.10/dist-packages (from netcal) (0.18.0+cu121)\n",
            "Requirement already satisfied: tqdm>=4.40 in /usr/local/lib/python3.10/dist-packages (from netcal) (4.66.4)\n",
            "Requirement already satisfied: pyro-ppl>=1.8 in /usr/local/lib/python3.10/dist-packages (from netcal) (1.9.1)\n",
            "Requirement already satisfied: tikzplotlib==0.9.8 in /usr/local/lib/python3.10/dist-packages (from netcal) (0.9.8)\n",
            "Requirement already satisfied: tensorboard>=2.2 in /usr/local/lib/python3.10/dist-packages (from netcal) (2.15.2)\n",
            "Requirement already satisfied: gpytorch>=1.5.1 in /usr/local/lib/python3.10/dist-packages (from netcal) (1.11)\n",
            "Requirement already satisfied: Pillow in /usr/local/lib/python3.10/dist-packages (from tikzplotlib==0.9.8->netcal) (9.4.0)\n",
            "Requirement already satisfied: linear-operator>=0.5.0 in /usr/local/lib/python3.10/dist-packages (from gpytorch>=1.5.1->netcal) (0.5.2)\n",
            "Requirement already satisfied: contourpy>=1.0.1 in /usr/local/lib/python3.10/dist-packages (from matplotlib>=3.3->netcal) (1.2.1)\n",
            "Requirement already satisfied: cycler>=0.10 in /usr/local/lib/python3.10/dist-packages (from matplotlib>=3.3->netcal) (0.12.1)\n",
            "Requirement already satisfied: fonttools>=4.22.0 in /usr/local/lib/python3.10/dist-packages (from matplotlib>=3.3->netcal) (4.53.0)\n",
            "Requirement already satisfied: kiwisolver>=1.0.1 in /usr/local/lib/python3.10/dist-packages (from matplotlib>=3.3->netcal) (1.4.5)\n",
            "Requirement already satisfied: packaging>=20.0 in /usr/local/lib/python3.10/dist-packages (from matplotlib>=3.3->netcal) (24.0)\n",
            "Requirement already satisfied: pyparsing>=2.3.1 in /usr/local/lib/python3.10/dist-packages (from matplotlib>=3.3->netcal) (3.1.2)\n",
            "Requirement already satisfied: python-dateutil>=2.7 in /usr/local/lib/python3.10/dist-packages (from matplotlib>=3.3->netcal) (2.8.2)\n",
            "Requirement already satisfied: opt-einsum>=2.3.2 in /usr/local/lib/python3.10/dist-packages (from pyro-ppl>=1.8->netcal) (3.3.0)\n",
            "Requirement already satisfied: pyro-api>=0.1.1 in /usr/local/lib/python3.10/dist-packages (from pyro-ppl>=1.8->netcal) (0.1.2)\n",
            "Requirement already satisfied: joblib>=1.1.1 in /usr/local/lib/python3.10/dist-packages (from scikit-learn>=0.24->netcal) (1.4.2)\n",
            "Requirement already satisfied: threadpoolctl>=2.0.0 in /usr/local/lib/python3.10/dist-packages (from scikit-learn>=0.24->netcal) (3.5.0)\n",
            "Requirement already satisfied: absl-py>=0.4 in /usr/local/lib/python3.10/dist-packages (from tensorboard>=2.2->netcal) (1.4.0)\n",
            "Requirement already satisfied: grpcio>=1.48.2 in /usr/local/lib/python3.10/dist-packages (from tensorboard>=2.2->netcal) (1.64.1)\n",
            "Requirement already satisfied: google-auth<3,>=1.6.3 in /usr/local/lib/python3.10/dist-packages (from tensorboard>=2.2->netcal) (2.27.0)\n",
            "Requirement already satisfied: google-auth-oauthlib<2,>=0.5 in /usr/local/lib/python3.10/dist-packages (from tensorboard>=2.2->netcal) (1.2.0)\n",
            "Requirement already satisfied: markdown>=2.6.8 in /usr/local/lib/python3.10/dist-packages (from tensorboard>=2.2->netcal) (3.6)\n",
            "Requirement already satisfied: protobuf!=4.24.0,>=3.19.6 in /usr/local/lib/python3.10/dist-packages (from tensorboard>=2.2->netcal) (3.20.3)\n",
            "Requirement already satisfied: requests<3,>=2.21.0 in /usr/local/lib/python3.10/dist-packages (from tensorboard>=2.2->netcal) (2.31.0)\n",
            "Requirement already satisfied: setuptools>=41.0.0 in /usr/local/lib/python3.10/dist-packages (from tensorboard>=2.2->netcal) (67.7.2)\n",
            "Requirement already satisfied: six>1.9 in /usr/local/lib/python3.10/dist-packages (from tensorboard>=2.2->netcal) (1.16.0)\n",
            "Requirement already satisfied: tensorboard-data-server<0.8.0,>=0.7.0 in /usr/local/lib/python3.10/dist-packages (from tensorboard>=2.2->netcal) (0.7.2)\n",
            "Requirement already satisfied: werkzeug>=1.0.1 in /usr/local/lib/python3.10/dist-packages (from tensorboard>=2.2->netcal) (3.0.3)\n",
            "Requirement already satisfied: filelock in /usr/local/lib/python3.10/dist-packages (from torch>=1.9->netcal) (3.14.0)\n",
            "Requirement already satisfied: typing-extensions>=4.8.0 in /usr/local/lib/python3.10/dist-packages (from torch>=1.9->netcal) (4.12.1)\n",
            "Requirement already satisfied: sympy in /usr/local/lib/python3.10/dist-packages (from torch>=1.9->netcal) (1.12.1)\n",
            "Requirement already satisfied: networkx in /usr/local/lib/python3.10/dist-packages (from torch>=1.9->netcal) (3.3)\n",
            "Requirement already satisfied: jinja2 in /usr/local/lib/python3.10/dist-packages (from torch>=1.9->netcal) (3.1.4)\n",
            "Requirement already satisfied: fsspec in /usr/local/lib/python3.10/dist-packages (from torch>=1.9->netcal) (2023.6.0)\n",
            "Requirement already satisfied: nvidia-cuda-nvrtc-cu12==12.1.105 in /usr/local/lib/python3.10/dist-packages (from torch>=1.9->netcal) (12.1.105)\n",
            "Requirement already satisfied: nvidia-cuda-runtime-cu12==12.1.105 in /usr/local/lib/python3.10/dist-packages (from torch>=1.9->netcal) (12.1.105)\n",
            "Requirement already satisfied: nvidia-cuda-cupti-cu12==12.1.105 in /usr/local/lib/python3.10/dist-packages (from torch>=1.9->netcal) (12.1.105)\n",
            "Requirement already satisfied: nvidia-cudnn-cu12==8.9.2.26 in /usr/local/lib/python3.10/dist-packages (from torch>=1.9->netcal) (8.9.2.26)\n",
            "Requirement already satisfied: nvidia-cublas-cu12==12.1.3.1 in /usr/local/lib/python3.10/dist-packages (from torch>=1.9->netcal) (12.1.3.1)\n",
            "Requirement already satisfied: nvidia-cufft-cu12==11.0.2.54 in /usr/local/lib/python3.10/dist-packages (from torch>=1.9->netcal) (11.0.2.54)\n",
            "Requirement already satisfied: nvidia-curand-cu12==10.3.2.106 in /usr/local/lib/python3.10/dist-packages (from torch>=1.9->netcal) (10.3.2.106)\n",
            "Requirement already satisfied: nvidia-cusolver-cu12==11.4.5.107 in /usr/local/lib/python3.10/dist-packages (from torch>=1.9->netcal) (11.4.5.107)\n",
            "Requirement already satisfied: nvidia-cusparse-cu12==12.1.0.106 in /usr/local/lib/python3.10/dist-packages (from torch>=1.9->netcal) (12.1.0.106)\n",
            "Requirement already satisfied: nvidia-nccl-cu12==2.20.5 in /usr/local/lib/python3.10/dist-packages (from torch>=1.9->netcal) (2.20.5)\n",
            "Requirement already satisfied: nvidia-nvtx-cu12==12.1.105 in /usr/local/lib/python3.10/dist-packages (from torch>=1.9->netcal) (12.1.105)\n",
            "Requirement already satisfied: triton==2.3.0 in /usr/local/lib/python3.10/dist-packages (from torch>=1.9->netcal) (2.3.0)\n",
            "Requirement already satisfied: nvidia-nvjitlink-cu12 in /usr/local/lib/python3.10/dist-packages (from nvidia-cusolver-cu12==11.4.5.107->torch>=1.9->netcal) (12.5.40)\n",
            "Requirement already satisfied: cachetools<6.0,>=2.0.0 in /usr/local/lib/python3.10/dist-packages (from google-auth<3,>=1.6.3->tensorboard>=2.2->netcal) (5.3.3)\n",
            "Requirement already satisfied: pyasn1-modules>=0.2.1 in /usr/local/lib/python3.10/dist-packages (from google-auth<3,>=1.6.3->tensorboard>=2.2->netcal) (0.4.0)\n",
            "Requirement already satisfied: rsa<5,>=3.1.4 in /usr/local/lib/python3.10/dist-packages (from google-auth<3,>=1.6.3->tensorboard>=2.2->netcal) (4.9)\n",
            "Requirement already satisfied: requests-oauthlib>=0.7.0 in /usr/local/lib/python3.10/dist-packages (from google-auth-oauthlib<2,>=0.5->tensorboard>=2.2->netcal) (1.3.1)\n",
            "Requirement already satisfied: jaxtyping>=0.2.9 in /usr/local/lib/python3.10/dist-packages (from linear-operator>=0.5.0->gpytorch>=1.5.1->netcal) (0.2.29)\n",
            "Requirement already satisfied: typeguard~=2.13.3 in /usr/local/lib/python3.10/dist-packages (from linear-operator>=0.5.0->gpytorch>=1.5.1->netcal) (2.13.3)\n",
            "Requirement already satisfied: charset-normalizer<4,>=2 in /usr/local/lib/python3.10/dist-packages (from requests<3,>=2.21.0->tensorboard>=2.2->netcal) (3.3.2)\n",
            "Requirement already satisfied: idna<4,>=2.5 in /usr/local/lib/python3.10/dist-packages (from requests<3,>=2.21.0->tensorboard>=2.2->netcal) (3.7)\n",
            "Requirement already satisfied: urllib3<3,>=1.21.1 in /usr/local/lib/python3.10/dist-packages (from requests<3,>=2.21.0->tensorboard>=2.2->netcal) (2.0.7)\n",
            "Requirement already satisfied: certifi>=2017.4.17 in /usr/local/lib/python3.10/dist-packages (from requests<3,>=2.21.0->tensorboard>=2.2->netcal) (2024.6.2)\n",
            "Requirement already satisfied: MarkupSafe>=2.1.1 in /usr/local/lib/python3.10/dist-packages (from werkzeug>=1.0.1->tensorboard>=2.2->netcal) (2.1.5)\n",
            "Requirement already satisfied: mpmath<1.4.0,>=1.1.0 in /usr/local/lib/python3.10/dist-packages (from sympy->torch>=1.9->netcal) (1.3.0)\n",
            "Requirement already satisfied: pyasn1<0.7.0,>=0.4.6 in /usr/local/lib/python3.10/dist-packages (from pyasn1-modules>=0.2.1->google-auth<3,>=1.6.3->tensorboard>=2.2->netcal) (0.6.0)\n",
            "Requirement already satisfied: oauthlib>=3.0.0 in /usr/local/lib/python3.10/dist-packages (from requests-oauthlib>=0.7.0->google-auth-oauthlib<2,>=0.5->tensorboard>=2.2->netcal) (3.2.2)\n",
            "Requirement already satisfied: torchsummary in /usr/local/lib/python3.10/dist-packages (1.5.1)\n"
          ]
        }
      ]
    },
    {
      "cell_type": "code",
      "source": [
        "import torch\n",
        "import torch.nn as nn\n",
        "import torch.optim as optim\n",
        "import torchvision\n",
        "import torchvision.transforms as transforms\n",
        "import matplotlib.pyplot as plt\n",
        "import time\n",
        "import os\n",
        "import numpy as np\n",
        "from torchsummary import summary\n",
        "from torch.nn.functional import softmax\n",
        "import torch.nn.functional as F\n",
        "import netcal.metrics as metrics\n",
        "from netcal.metrics import ECE\n",
        "from sklearn.metrics import precision_recall_curve, auc, roc_auc_score, roc_curve\n",
        "\n",
        "# Import ABNN's essential components\n",
        "# from ABNN import BNL, CustomMAPLoss, replace_normalization_layers\n",
        "# from ABNN_Metrics import (\n",
        "#         calculate_accuracy, calculate_uncertainty, calculate_nll, calculate_ece,\n",
        "#         calculate_aupr, calculate_auc, calculate_fpr95, count_parameters,\n",
        "#         predict_with_uncertainty, plot_uncertainty\n",
        "#     )\n",
        "\n",
        "# Import the base CNN model\n",
        "# from Simple_CNN import Net\n",
        "\n",
        "# Set the start method to 'spawn'\n",
        "import multiprocessing\n",
        "multiprocessing.set_start_method('spawn', force=True)"
      ],
      "metadata": {
        "id": "REotBNCV3UqO",
        "execution": {
          "iopub.status.busy": "2024-06-05T14:12:00.811304Z",
          "iopub.execute_input": "2024-06-05T14:12:00.812037Z",
          "iopub.status.idle": "2024-06-05T14:12:08.293364Z",
          "shell.execute_reply.started": "2024-06-05T14:12:00.811988Z",
          "shell.execute_reply": "2024-06-05T14:12:08.291682Z"
        },
        "trusted": true
      },
      "execution_count": 2,
      "outputs": []
    },
    {
      "cell_type": "markdown",
      "source": [
        "### Load and Augment CIFAR-10"
      ],
      "metadata": {
        "id": "XFwNb7Gf3UqR"
      }
    },
    {
      "cell_type": "markdown",
      "source": [
        "Similar to the paper, I only use Horizontal Flip for data augmentation"
      ],
      "metadata": {
        "id": "uyQVyB3oCizi"
      }
    },
    {
      "cell_type": "code",
      "source": [
        "transform = transforms.Compose(\n",
        "    [transforms.RandomHorizontalFlip(),\n",
        "     transforms.ToTensor(),\n",
        "     transforms.Normalize((0.5, 0.5, 0.5), (0.5, 0.5, 0.5))])\n",
        "\n",
        "trainset = torchvision.datasets.CIFAR10(root='./data', train=True,\n",
        "                                        download=True, transform=transform)\n",
        "trainloader = torch.utils.data.DataLoader(trainset, batch_size=128,\n",
        "                                          shuffle=True, num_workers=2)\n",
        "\n",
        "testset = torchvision.datasets.CIFAR10(root='./data', train=False,\n",
        "                                       download=True, transform=transform)\n",
        "testloader = torch.utils.data.DataLoader(testset, batch_size=128,\n",
        "                                         shuffle=False, num_workers=2)\n",
        "\n",
        "classes = ('plane', 'car', 'bird', 'cat', 'deer', 'dog', 'frog', 'horse', 'ship', 'truck')"
      ],
      "metadata": {
        "colab": {
          "base_uri": "https://localhost:8080/"
        },
        "id": "mSmx1nli3UqS",
        "outputId": "03925d5f-5517-4e1b-8d79-2f9b31cdbcdb",
        "execution": {
          "iopub.status.busy": "2024-06-05T14:12:08.295965Z",
          "iopub.execute_input": "2024-06-05T14:12:08.296692Z",
          "iopub.status.idle": "2024-06-05T14:12:17.057845Z",
          "shell.execute_reply.started": "2024-06-05T14:12:08.296655Z",
          "shell.execute_reply": "2024-06-05T14:12:17.056226Z"
        },
        "trusted": true
      },
      "execution_count": 3,
      "outputs": [
        {
          "output_type": "stream",
          "name": "stdout",
          "text": [
            "Files already downloaded and verified\n",
            "Files already downloaded and verified\n"
          ]
        }
      ]
    },
    {
      "cell_type": "markdown",
      "source": [
        "##  Train the base model and save the weights"
      ],
      "metadata": {
        "id": "AoXdUp79d8CL"
      }
    },
    {
      "cell_type": "markdown",
      "source": [
        "### Define the base CNN model"
      ],
      "metadata": {
        "id": "AL7gMgK93UqT"
      }
    },
    {
      "cell_type": "code",
      "source": [
        "class Net(nn.Module):\n",
        "    def __init__(self):\n",
        "        super(Net, self).__init__()\n",
        "        # Conv layers\n",
        "        self.conv1 = nn.Conv2d(3, 32, 3, padding=1)\n",
        "        self.bn1 = nn.BatchNorm2d(32)  # Using BatchNorm here for conv layer\n",
        "        self.conv2 = nn.Conv2d(32, 64, 3, padding=1)\n",
        "        self.in2 = nn.InstanceNorm2d(64, affine=True)  # Using InstanceNorm here for conv layer\n",
        "        self.conv3 = nn.Conv2d(64, 128, 3, padding=1)\n",
        "        self.ln3 = nn.LayerNorm([128, 8, 8])  # Using LayerNorm here for conv layer\n",
        "\n",
        "        # Pooling layer\n",
        "        self.pool = nn.MaxPool2d(2, 2)\n",
        "\n",
        "        # Fully connected layers\n",
        "        self.fc1 = nn.Linear(128 * 4 * 4, 256)\n",
        "        self.ln4 = nn.LayerNorm(256)  # Using LayerNorm here for fc layer\n",
        "        self.fc2 = nn.Linear(256, 128)\n",
        "        self.bn5 = nn.BatchNorm1d(128)  # Using BatchNorm here for fc layer\n",
        "        self.fc3 = nn.Linear(128, 10)\n",
        "\n",
        "    def forward(self, x):\n",
        "        x = self.pool(F.relu(self.bn1(self.conv1(x))))\n",
        "        x = self.pool(F.relu(self.in2(self.conv2(x))))\n",
        "        x = self.pool(F.relu(self.ln3(self.conv3(x))))\n",
        "        x = x.view(-1, 128 * 4 * 4)\n",
        "        x = F.relu(self.ln4(self.fc1(x)))\n",
        "        x = F.relu(self.bn5(self.fc2(x)))\n",
        "        x = self.fc3(x)\n",
        "        return x"
      ],
      "metadata": {
        "id": "a4UNu1Ei4qr4",
        "execution": {
          "iopub.status.busy": "2024-06-05T14:12:17.059760Z",
          "iopub.execute_input": "2024-06-05T14:12:17.060219Z",
          "iopub.status.idle": "2024-06-05T14:12:17.075224Z",
          "shell.execute_reply.started": "2024-06-05T14:12:17.060182Z",
          "shell.execute_reply": "2024-06-05T14:12:17.073546Z"
        },
        "trusted": true
      },
      "execution_count": 5,
      "outputs": []
    },
    {
      "cell_type": "code",
      "source": [
        "# Check if GPU is available\n",
        "device = torch.device(\"cuda:0\" if torch.cuda.is_available() else \"cpu\")\n",
        "\n",
        "net = Net()\n",
        "net.to(device)  # Move the model to GPU if available"
      ],
      "metadata": {
        "colab": {
          "base_uri": "https://localhost:8080/"
        },
        "id": "Z6tINOK8I2rE",
        "outputId": "f87214c7-6f76-45df-e6dd-63d4890e80e2",
        "execution": {
          "iopub.status.busy": "2024-06-05T14:12:17.078913Z",
          "iopub.execute_input": "2024-06-05T14:12:17.079374Z",
          "iopub.status.idle": "2024-06-05T14:12:17.169651Z",
          "shell.execute_reply.started": "2024-06-05T14:12:17.079341Z",
          "shell.execute_reply": "2024-06-05T14:12:17.168135Z"
        },
        "trusted": true
      },
      "execution_count": 6,
      "outputs": [
        {
          "output_type": "execute_result",
          "data": {
            "text/plain": [
              "Net(\n",
              "  (conv1): Conv2d(3, 32, kernel_size=(3, 3), stride=(1, 1), padding=(1, 1))\n",
              "  (bn1): BatchNorm2d(32, eps=1e-05, momentum=0.1, affine=True, track_running_stats=True)\n",
              "  (conv2): Conv2d(32, 64, kernel_size=(3, 3), stride=(1, 1), padding=(1, 1))\n",
              "  (in2): InstanceNorm2d(64, eps=1e-05, momentum=0.1, affine=True, track_running_stats=False)\n",
              "  (conv3): Conv2d(64, 128, kernel_size=(3, 3), stride=(1, 1), padding=(1, 1))\n",
              "  (ln3): LayerNorm((128, 8, 8), eps=1e-05, elementwise_affine=True)\n",
              "  (pool): MaxPool2d(kernel_size=2, stride=2, padding=0, dilation=1, ceil_mode=False)\n",
              "  (fc1): Linear(in_features=2048, out_features=256, bias=True)\n",
              "  (ln4): LayerNorm((256,), eps=1e-05, elementwise_affine=True)\n",
              "  (fc2): Linear(in_features=256, out_features=128, bias=True)\n",
              "  (bn5): BatchNorm1d(128, eps=1e-05, momentum=0.1, affine=True, track_running_stats=True)\n",
              "  (fc3): Linear(in_features=128, out_features=10, bias=True)\n",
              ")"
            ]
          },
          "metadata": {},
          "execution_count": 6
        }
      ]
    },
    {
      "cell_type": "code",
      "source": [
        "# Print the summary of the model\n",
        "summary(net, (3, 32, 32))"
      ],
      "metadata": {
        "colab": {
          "base_uri": "https://localhost:8080/"
        },
        "id": "4C0LFYpR44gh",
        "outputId": "7891e7b3-8f35-4ee6-eca6-1d4dc8c202d2",
        "execution": {
          "iopub.status.busy": "2024-06-05T14:12:17.171226Z",
          "iopub.execute_input": "2024-06-05T14:12:17.171701Z",
          "iopub.status.idle": "2024-06-05T14:12:17.342576Z",
          "shell.execute_reply.started": "2024-06-05T14:12:17.171652Z",
          "shell.execute_reply": "2024-06-05T14:12:17.340989Z"
        },
        "trusted": true
      },
      "execution_count": 7,
      "outputs": [
        {
          "output_type": "stream",
          "name": "stdout",
          "text": [
            "----------------------------------------------------------------\n",
            "        Layer (type)               Output Shape         Param #\n",
            "================================================================\n",
            "            Conv2d-1           [-1, 32, 32, 32]             896\n",
            "       BatchNorm2d-2           [-1, 32, 32, 32]              64\n",
            "         MaxPool2d-3           [-1, 32, 16, 16]               0\n",
            "            Conv2d-4           [-1, 64, 16, 16]          18,496\n",
            "    InstanceNorm2d-5           [-1, 64, 16, 16]             128\n",
            "         MaxPool2d-6             [-1, 64, 8, 8]               0\n",
            "            Conv2d-7            [-1, 128, 8, 8]          73,856\n",
            "         LayerNorm-8            [-1, 128, 8, 8]          16,384\n",
            "         MaxPool2d-9            [-1, 128, 4, 4]               0\n",
            "           Linear-10                  [-1, 256]         524,544\n",
            "        LayerNorm-11                  [-1, 256]             512\n",
            "           Linear-12                  [-1, 128]          32,896\n",
            "      BatchNorm1d-13                  [-1, 128]             256\n",
            "           Linear-14                   [-1, 10]           1,290\n",
            "================================================================\n",
            "Total params: 669,322\n",
            "Trainable params: 669,322\n",
            "Non-trainable params: 0\n",
            "----------------------------------------------------------------\n",
            "Input size (MB): 0.01\n",
            "Forward/backward pass size (MB): 0.99\n",
            "Params size (MB): 2.55\n",
            "Estimated Total Size (MB): 3.56\n",
            "----------------------------------------------------------------\n"
          ]
        }
      ]
    },
    {
      "cell_type": "markdown",
      "source": [
        "### Train the base CNN model"
      ],
      "metadata": {
        "id": "cS3UXMDZwmM4"
      }
    },
    {
      "cell_type": "markdown",
      "source": [
        "For the training of our base model, I use standard image classification methods: standard cross-entropy loss and SGD"
      ],
      "metadata": {
        "id": "zvc2_IXbDuNK"
      }
    },
    {
      "cell_type": "code",
      "source": [
        "criterion = nn.CrossEntropyLoss()\n",
        "optimizer = optim.SGD(net.parameters(), lr=0.01, momentum=0.9, weight_decay=5e-4)"
      ],
      "metadata": {
        "id": "5kIIN6kx3UqW",
        "execution": {
          "iopub.status.busy": "2024-06-05T14:12:17.344530Z",
          "iopub.execute_input": "2024-06-05T14:12:17.345000Z",
          "iopub.status.idle": "2024-06-05T14:12:17.355404Z",
          "shell.execute_reply.started": "2024-06-05T14:12:17.344965Z",
          "shell.execute_reply": "2024-06-05T14:12:17.353617Z"
        },
        "trusted": true
      },
      "execution_count": 8,
      "outputs": []
    },
    {
      "cell_type": "code",
      "source": [
        "# Timing the training process\n",
        "start_time = time.time()\n",
        "\n",
        "# Training\n",
        "train_losses = []\n",
        "\n",
        "# Training\n",
        "for epoch in range(20):\n",
        "    running_loss = 0.0\n",
        "    for i, data in enumerate(trainloader, 0):\n",
        "        inputs, labels = data\n",
        "\n",
        "        # Move inputs and labels to GPU\n",
        "        inputs, labels = inputs.to(device), labels.to(device)\n",
        "\n",
        "        optimizer.zero_grad()\n",
        "\n",
        "        outputs = net(inputs)\n",
        "        loss = criterion(outputs, labels)\n",
        "        loss.backward()\n",
        "        optimizer.step()\n",
        "\n",
        "        running_loss += loss.item()\n",
        "        train_losses.append(loss.item())\n",
        "\n",
        "    print(f'[epoch {epoch + 1}, loss: {running_loss / 3000:.6f}')\n",
        "    running_loss = 0\n",
        "\n",
        "end_time = time.time()\n",
        "\n",
        "print('Finished Training')\n",
        "print(f'Time taken to train the model: {end_time - start_time:.2f} seconds')"
      ],
      "metadata": {
        "colab": {
          "base_uri": "https://localhost:8080/"
        },
        "id": "Mc-ZwEfR-Jvb",
        "outputId": "e900ae65-5b0d-4150-fedb-69e7e3cd5ed2",
        "execution": {
          "iopub.status.busy": "2024-06-05T14:12:17.357664Z",
          "iopub.execute_input": "2024-06-05T14:12:17.358066Z",
          "iopub.status.idle": "2024-06-05T14:28:29.416447Z",
          "shell.execute_reply.started": "2024-06-05T14:12:17.358037Z",
          "shell.execute_reply": "2024-06-05T14:28:29.414627Z"
        },
        "trusted": true
      },
      "execution_count": 9,
      "outputs": [
        {
          "output_type": "stream",
          "name": "stdout",
          "text": [
            "[epoch 1, loss: 0.154708\n",
            "[epoch 2, loss: 0.107863\n",
            "[epoch 3, loss: 0.092632\n",
            "[epoch 4, loss: 0.082888\n",
            "[epoch 5, loss: 0.075239\n",
            "[epoch 6, loss: 0.069646\n",
            "[epoch 7, loss: 0.064024\n",
            "[epoch 8, loss: 0.060947\n",
            "[epoch 9, loss: 0.056376\n",
            "[epoch 10, loss: 0.053229\n",
            "[epoch 11, loss: 0.049484\n",
            "[epoch 12, loss: 0.046479\n",
            "[epoch 13, loss: 0.043952\n",
            "[epoch 14, loss: 0.041753\n",
            "[epoch 15, loss: 0.038616\n",
            "[epoch 16, loss: 0.037123\n",
            "[epoch 17, loss: 0.035332\n",
            "[epoch 18, loss: 0.033494\n",
            "[epoch 19, loss: 0.031514\n",
            "[epoch 20, loss: 0.030402\n",
            "Finished Training\n",
            "Time taken to train the model: 512.33 seconds\n"
          ]
        }
      ]
    },
    {
      "cell_type": "code",
      "source": [
        "# Plotting the training loss\n",
        "plt.figure()\n",
        "plt.plot(train_losses)\n",
        "plt.xlabel('Iteration')\n",
        "plt.ylabel('Loss')\n",
        "plt.title('Training Loss')\n",
        "plt.show()"
      ],
      "metadata": {
        "colab": {
          "base_uri": "https://localhost:8080/",
          "height": 472
        },
        "id": "HY9IXUXCKigX",
        "outputId": "01d25151-7832-4a1a-d57f-b4043c40ad5a",
        "execution": {
          "iopub.status.busy": "2024-06-05T14:28:29.419059Z",
          "iopub.execute_input": "2024-06-05T14:28:29.419596Z",
          "iopub.status.idle": "2024-06-05T14:28:29.798169Z",
          "shell.execute_reply.started": "2024-06-05T14:28:29.419560Z",
          "shell.execute_reply": "2024-06-05T14:28:29.796387Z"
        },
        "trusted": true
      },
      "execution_count": 10,
      "outputs": [
        {
          "output_type": "display_data",
          "data": {
            "text/plain": [
              "<Figure size 640x480 with 1 Axes>"
            ],
            "image/png": "[encoded data removed]"
          },
          "metadata": {}
        }
      ]
    },
    {
      "cell_type": "markdown",
      "source": [
        "### Test and save the model's weights"
      ],
      "metadata": {
        "id": "OhKKLx5JAnzq"
      }
    },
    {
      "cell_type": "code",
      "source": [
        "correct = 0\n",
        "total = 0\n",
        "with torch.no_grad():\n",
        "    for data in testloader:\n",
        "        images, labels = data\n",
        "        images, labels = images.to(device), labels.to(device)\n",
        "        outputs = net(images)\n",
        "        _, predicted = torch.max(outputs.data, 1)\n",
        "        total += labels.size(0)\n",
        "        correct += (predicted == labels).sum().item()\n",
        "\n",
        "print(f'Accuracy of the network on the test images: {100 * correct // total:.2f} %')"
      ],
      "metadata": {
        "colab": {
          "base_uri": "https://localhost:8080/"
        },
        "id": "7QNSWKlOuYi3",
        "outputId": "12e73a3c-1c1d-46d6-bd97-716dc779033d",
        "execution": {
          "iopub.status.busy": "2024-06-05T14:28:29.800120Z",
          "iopub.execute_input": "2024-06-05T14:28:29.800597Z",
          "iopub.status.idle": "2024-06-05T14:28:48.395370Z",
          "shell.execute_reply.started": "2024-06-05T14:28:29.800564Z",
          "shell.execute_reply": "2024-06-05T14:28:48.393895Z"
        },
        "trusted": true
      },
      "execution_count": 14,
      "outputs": [
        {
          "output_type": "stream",
          "name": "stdout",
          "text": [
            "Accuracy of the network on the test images: 79.00 %\n"
          ]
        }
      ]
    },
    {
      "cell_type": "code",
      "source": [
        "# Save the trained model weights\n",
        "PATH = './cifar_net.pth'\n",
        "torch.save(net.state_dict(), PATH)\n",
        "print('Saved the model weights')"
      ],
      "metadata": {
        "colab": {
          "base_uri": "https://localhost:8080/"
        },
        "id": "MlwO4roL3gqN",
        "outputId": "75f45156-d385-4960-a634-cc0f9a0562fd",
        "execution": {
          "iopub.status.busy": "2024-06-05T14:28:48.399730Z",
          "iopub.execute_input": "2024-06-05T14:28:48.400990Z",
          "iopub.status.idle": "2024-06-05T14:28:48.417351Z",
          "shell.execute_reply.started": "2024-06-05T14:28:48.400944Z",
          "shell.execute_reply": "2024-06-05T14:28:48.415717Z"
        },
        "trusted": true
      },
      "execution_count": 15,
      "outputs": [
        {
          "output_type": "stream",
          "name": "stdout",
          "text": [
            "Saved the model weights\n"
          ]
        }
      ]
    },
    {
      "cell_type": "markdown",
      "source": [
        "## Train the ABNN version"
      ],
      "metadata": {
        "id": "6S-mVSFzeH0b"
      }
    },
    {
      "cell_type": "markdown",
      "source": [
        "### BNL old versions"
      ],
      "metadata": {
        "id": "3LIQtXOFIWUd"
      }
    },
    {
      "cell_type": "code",
      "source": [
        "class BNL(nn.Module):\n",
        "    \"\"\"\n",
        "    Bayesian Normalization Layer (BNL).\n",
        "\n",
        "    This layer replaces traditional normalization including like BatchNorm,\n",
        "    LayerNorm, and InstanceNorm. It adapts normalization to account for Bayesian\n",
        "    inference, making the model more robust to variations and uncertainties in\n",
        "    the data.\n",
        "\n",
        "    BNL adds gaussian noise during both inference and trainig stages.\n",
        "\n",
        "    Args:\n",
        "        num_features (int): The number of features in the input.\n",
        "\n",
        "    Methods:\n",
        "        forward(x): Applies Bayesian normalization to the input tensor.\n",
        "    \"\"\"\n",
        "    def __init__(self, num_features):\n",
        "        super(BNL, self).__init__()\n",
        "        self.num_features = num_features\n",
        "        self.gamma_4d = nn.Parameter(torch.ones(1, num_features, 1, 1))\n",
        "        self.beta_4d = nn.Parameter(torch.zeros(1, num_features, 1, 1))\n",
        "        self.gamma_2d = nn.Parameter(torch.ones(1, num_features))\n",
        "        self.beta_2d = nn.Parameter(torch.zeros(1, num_features))\n",
        "        self.eps = 1e-5\n",
        "\n",
        "    def forward(self, x):\n",
        "        if x.dim() == 4:  # 4D Input: Used for mini-batch of images. The four dimensions are [batch size, channels, height, width]\n",
        "            batch_mean = torch.mean(x, dim=(0, 2, 3), keepdim=True)\n",
        "            batch_var = torch.var(x, dim=(0, 2, 3), keepdim=True)\n",
        "            noise = torch.randn(x.shape[0], self.num_features, 1, 1).to(x.device)\n",
        "            x = (x - batch_mean) / torch.sqrt(batch_var + self.eps)\n",
        "            x = x * (self.gamma_4d * (1 + noise)) + self.beta_4d\n",
        "        elif x.dim() == 2:  # 2D Input: common for in fully connected layers. The two dimensions are [batch size, features]\n",
        "            batch_mean = torch.mean(x, dim=0, keepdim=True)\n",
        "            batch_var = torch.var(x, dim=0, keepdim=True)\n",
        "            noise = torch.randn(x.shape[0], self.num_features).to(x.device)\n",
        "            x = (x - batch_mean) / torch.sqrt(batch_var + self.eps)\n",
        "            x = x * (self.gamma_2d * (1 + noise)) + self.beta_2d\n",
        "        else:\n",
        "            raise ValueError(f\"Unsupported input dimensions: {x.dim()}\")\n",
        "        return x"
      ],
      "metadata": {
        "id": "tLHAxAgSIZ1P",
        "execution": {
          "iopub.status.busy": "2024-06-05T14:45:06.015402Z",
          "iopub.execute_input": "2024-06-05T14:45:06.015886Z",
          "iopub.status.idle": "2024-06-05T14:45:06.032740Z",
          "shell.execute_reply.started": "2024-06-05T14:45:06.015852Z",
          "shell.execute_reply": "2024-06-05T14:45:06.030889Z"
        },
        "trusted": true
      },
      "execution_count": null,
      "outputs": []
    },
    {
      "cell_type": "code",
      "source": [
        "class BNL(nn.Module):\n",
        "    def __init__(self, num_features, epsilon_std=1.0):\n",
        "        super(BNL, self).__init__()\n",
        "        self.num_features = num_features\n",
        "        self.epsilon_std = epsilon_std\n",
        "\n",
        "        # Learnable parameters\n",
        "        self.gamma = nn.Parameter(torch.ones(num_features))\n",
        "        self.beta = nn.Parameter(torch.zeros(num_features))\n",
        "\n",
        "        # Running statistics\n",
        "        self.running_mean = torch.zeros(num_features)\n",
        "        self.running_var = torch.ones(num_features)\n",
        "\n",
        "        # Initialize the random noise\n",
        "        self.epsilon = torch.randn(num_features) * self.epsilon_std\n",
        "\n",
        "    def forward(self, x):\n",
        "        device = x.device  # Get the device of the input tensor\n",
        "\n",
        "        # Ensure running statistics are on the same device\n",
        "        self.running_mean = self.running_mean.to(device)\n",
        "        self.running_var = self.running_var.to(device)\n",
        "        self.gamma = self.gamma.to(device)\n",
        "        self.beta = self.beta.to(device)\n",
        "        self.epsilon = self.epsilon.to(device)\n",
        "\n",
        "        if self.training:\n",
        "            batch_mean = torch.mean(x, dim=[0, 2, 3])\n",
        "            batch_var = torch.var(x, dim=[0, 2, 3], unbiased=False)\n",
        "\n",
        "            # Update running statistics\n",
        "            self.running_mean = 0.9 * self.running_mean + 0.1 * batch_mean\n",
        "            self.running_var = 0.9 * self.running_var + 0.1 * batch_var\n",
        "        else:\n",
        "            batch_mean = self.running_mean\n",
        "            batch_var = self.running_var\n",
        "\n",
        "        # Add Gaussian noise to gamma\n",
        "        if self.training:\n",
        "            self.epsilon = torch.randn(self.num_features, device=device) * self.epsilon_std\n",
        "        gamma_noisy = self.gamma * (1 + self.epsilon)\n",
        "\n",
        "        # Normalize the input\n",
        "        x_normalized = (x - batch_mean[None, :, None, None]) / torch.sqrt(batch_var[None, :, None, None] + 1e-5)\n",
        "\n",
        "        return gamma_noisy[None, :, None, None] * x_normalized + self.beta[None, :, None, None]"
      ],
      "metadata": {
        "id": "ywSbDVrg9yEm"
      },
      "execution_count": null,
      "outputs": []
    },
    {
      "cell_type": "code",
      "source": [
        "class BNL(nn.Module):\n",
        "    def __init__(self, num_features, epsilon_std=1.0):\n",
        "        super(BNL, self).__init__()\n",
        "        self.num_features = num_features\n",
        "        self.epsilon_std = epsilon_std\n",
        "\n",
        "        # Learnable parameters\n",
        "        self.gamma = nn.Parameter(torch.ones(num_features))\n",
        "        self.beta = nn.Parameter(torch.zeros(num_features))\n",
        "\n",
        "        # Running statistics\n",
        "        self.running_mean = torch.zeros(num_features)\n",
        "        self.running_var = torch.ones(num_features)\n",
        "\n",
        "    def forward(self, x):\n",
        "        device = x.device\n",
        "        self.running_mean = self.running_mean.to(device)\n",
        "        self.running_var = self.running_var.to(device)\n",
        "        self.gamma = self.gamma.to(device)\n",
        "        self.beta = self.beta.to(device)\n",
        "\n",
        "        if x.dim() == 4:  # Input from conv layers\n",
        "            if self.training:\n",
        "                batch_mean = x.mean([0, 2, 3], keepdim=True)\n",
        "                batch_var = x.var([0, 2, 3], keepdim=True, unbiased=False)\n",
        "                self.running_mean = 0.9 * self.running_mean + 0.1 * batch_mean.squeeze()\n",
        "                self.running_var = 0.9 * self.running_var + 0.1 * batch_var.squeeze()\n",
        "            else:\n",
        "                batch_mean = self.running_mean.view(1, -1, 1, 1)\n",
        "                batch_var = self.running_var.view(1, -1, 1, 1)\n",
        "        elif x.dim() == 2:  # Input from fully connected layers\n",
        "            if self.training:\n",
        "                batch_mean = x.mean(0, keepdim=True)\n",
        "                batch_var = x.var(0, keepdim=True, unbiased=False)\n",
        "                self.running_mean = 0.9 * self.running_mean + 0.1 * batch_mean.squeeze()\n",
        "                self.running_var = 0.9 * self.running_var + 0.1 * batch_var.squeeze()\n",
        "            else:\n",
        "                batch_mean = self.running_mean.view(1, -1)\n",
        "                batch_var = self.running_var.view(1, -1)\n",
        "\n",
        "        if self.training:\n",
        "            self.epsilon = torch.randn(self.num_features, device=device) * self.epsilon_std\n",
        "        else:\n",
        "            self.epsilon = torch.zeros(self.num_features, device=device)\n",
        "\n",
        "        gamma_noisy = self.gamma * (1 + self.epsilon)\n",
        "\n",
        "        # Normalize the input\n",
        "        x_normalized = (x - batch_mean) / torch.sqrt(batch_var + 1e-5)\n",
        "\n",
        "        # Adjust gamma and beta for broadcasting\n",
        "        if x.dim() == 4:\n",
        "            gamma_noisy = gamma_noisy.view(1, -1, 1, 1)\n",
        "            beta = self.beta.view(1, -1, 1, 1)\n",
        "        elif x.dim() == 2:\n",
        "            gamma_noisy = gamma_noisy.view(1, -1)\n",
        "            beta = self.beta.view(1, -1)\n",
        "\n",
        "        return gamma_noisy * x_normalized + beta\n"
      ],
      "metadata": {
        "id": "MeCC96nh-RT9"
      },
      "execution_count": null,
      "outputs": []
    },
    {
      "cell_type": "markdown",
      "source": [
        "### BNL and ABNN loss current version"
      ],
      "metadata": {
        "id": "PoPygvmL9P9o"
      }
    },
    {
      "cell_type": "code",
      "source": [
        "# class BNL(nn.Module):\n",
        "#     \"\"\"\n",
        "#     Bayesian Normalization Layer (BNL) that can directly replace traditional\n",
        "#     normalization layers like BatchNorm, enabling easier weight transfer from models\n",
        "#     using BatchNorm.\n",
        "\n",
        "#     This implementation includes parameters named `weight` and `bias` to directly\n",
        "#     match those used in PyTorch's BatchNorm layers for compatibility when loading\n",
        "#     state dictionaries.\n",
        "\n",
        "#     Args:\n",
        "#         num_features (int): Number of features in the input, matches channels in conv\n",
        "#                             layers or features in linear layers.\n",
        "#     \"\"\"\n",
        "#     def __init__(self, num_features):\n",
        "#         super(BNL, self).__init__()\n",
        "#         self.num_features = num_features\n",
        "#         self.weight = nn.Parameter(torch.ones(num_features))\n",
        "#         self.bias = nn.Parameter(torch.zeros(num_features))\n",
        "#         self.eps = 1e-5\n",
        "\n",
        "#     def forward(self, x):\n",
        "#         mean = x.mean([0, 2, 3], keepdim=True) if x.dim() == 4 else x.mean(0, keepdim=True)\n",
        "#         var = x.var([0, 2, 3], keepdim=True) if x.dim() == 4 else x.var(0, keepdim=True)\n",
        "#         x_normalized = (x - mean) / torch.sqrt(var + self.eps)\n",
        "\n",
        "#         # Gaussian noise applied to the weights\n",
        "#         noise = torch.randn(self.weight.shape, device=x.device)\n",
        "#         gamma_noisy = self.weight * (1 + noise)\n",
        "\n",
        "#         if x.dim() == 4:\n",
        "#             gamma_noisy = gamma_noisy.view(1, -1, 1, 1)\n",
        "#             bias = self.bias.view(1, -1, 1, 1)\n",
        "#         elif x.dim() == 2:\n",
        "#             gamma_noisy = gamma_noisy.view(1, -1)\n",
        "#             bias = self.bias.view(1, -1)\n",
        "\n",
        "#         return gamma_noisy * x_normalized + bias\n",
        "\n",
        "\n",
        "# class BNL_layer(nn.Module):  # for special case of layer normalization tha takes a list input\n",
        "#     def __init__(self, num_features):\n",
        "#         super(BNL_layer, self).__init__()\n",
        "#         if isinstance(num_features, int):\n",
        "#             num_features = (num_features,)\n",
        "#         elif isinstance(num_features, list):\n",
        "#             num_features = tuple(num_features)\n",
        "\n",
        "#         self.num_features = num_features\n",
        "#         self.weight = nn.Parameter(torch.ones(num_features))\n",
        "#         self.bias = nn.Parameter(torch.zeros(num_features))\n",
        "#         self.eps = 1e-5\n",
        "\n",
        "#     def forward(self, x):\n",
        "#         mean = x.mean(dim=tuple(range(x.dim())[1:]), keepdim=True)\n",
        "#         var = x.var(dim=tuple(range(x.dim())[1:]), keepdim=True, unbiased=False)\n",
        "#         x_normalized = (x - mean) / torch.sqrt(var + self.eps)\n",
        "\n",
        "#         noise = torch.randn(self.weight.shape, device=x.device)\n",
        "#         gamma_noisy = self.weight * (1 + noise)\n",
        "\n",
        "#         weight = self.weight.view((1,) + self.num_features + (1,) * (x.dim() - len(self.num_features) - 1))\n",
        "#         bias = self.bias.view((1,) + self.num_features + (1,) * (x.dim() - len(self.num_features) - 1))\n",
        "\n",
        "#         return gamma_noisy * x_normalized + bias"
      ],
      "metadata": {
        "id": "u6Vj89tWtqQl"
      },
      "execution_count": 13,
      "outputs": []
    },
    {
      "cell_type": "code",
      "source": [
        "import torch\n",
        "import torch.nn as nn\n",
        "\n",
        "class BNL(nn.Module):\n",
        "    \"\"\"\n",
        "        Bayesian Normalization Layer (BNL).\n",
        "\n",
        "    This layer replaces traditional normalization layers like BatchNorm,\n",
        "    LayerNorm, and InstanceNorm. It adapts normalization to account for Bayesian\n",
        "    inference, making the model more robust to variations and uncertainties in\n",
        "    the data.\n",
        "\n",
        "    BNL adds gaussian noise during both inference and trainig stages.\n",
        "\n",
        "    This implementation includes parameters named `weight` and `bias` to directly\n",
        "    match those used in PyTorch's BatchNorm, LayerNorm, and InstanceNorm layers\n",
        "    for compatibility when loading state dictionaries.\n",
        "\n",
        "    Args:\n",
        "        num_features (int, list, tuple): Number of features in the input, matches channels\n",
        "                                         in conv layers or features in linear layers. Can\n",
        "                                         be a single integer or a list/tuple for complex scenarios.\n",
        "    \"\"\"\n",
        "    def __init__(self, num_features):\n",
        "        super(BNL, self).__init__()\n",
        "        # Check if num_features is a list or tuple, convert if necessary\n",
        "        if isinstance(num_features, int):\n",
        "            num_features = (num_features,)\n",
        "\n",
        "        self.num_features = num_features\n",
        "        self.weight = nn.Parameter(torch.ones(num_features))\n",
        "        self.bias = nn.Parameter(torch.zeros(num_features))\n",
        "        self.eps = 1e-5\n",
        "\n",
        "    def forward(self, x):\n",
        "        if len(self.num_features) == 1:  # Traditional usage like BatchNorm\n",
        "            mean = x.mean([0, 2, 3], keepdim=True) if x.dim() == 4 else x.mean(0, keepdim=True)\n",
        "            var = x.var([0, 2, 3], keepdim=True) if x.dim() == 4 else x.var(0, keepdim=True)\n",
        "            x_normalized = (x - mean) / torch.sqrt(var + self.eps)\n",
        "\n",
        "            noise = torch.randn(self.weight.shape, device=x.device)\n",
        "            gamma_noisy = self.weight * (1 + noise)\n",
        "\n",
        "            if x.dim() == 4:\n",
        "                gamma_noisy = gamma_noisy.view(1, -1, 1, 1)\n",
        "                bias = self.bias.view(1, -1, 1, 1)\n",
        "            elif x.dim() == 2:\n",
        "                gamma_noisy = gamma_noisy.view(1, -1)\n",
        "                bias = self.bias.view(1, -1)\n",
        "\n",
        "            return gamma_noisy * x_normalized + bias\n",
        "        else:  # LayerNorm-like usage\n",
        "            mean = x.mean(dim=tuple(range(x.dim())[1:]), keepdim=True)\n",
        "            var = x.var(dim=tuple(range(x.dim())[1:]), keepdim=True, unbiased=False)\n",
        "            x_normalized = (x - mean) / torch.sqrt(var + self.eps)\n",
        "\n",
        "            noise = torch.randn(self.weight.shape, device=x.device)\n",
        "            gamma_noisy = self.weight * (1 + noise)\n",
        "\n",
        "            weight = self.weight.view((1,) + self.num_features + (1,) * (x.dim() - len(self.num_features) - 1))\n",
        "            bias = self.bias.view((1,) + self.num_features + (1,) * (x.dim() - len(self.num_features) - 1))\n",
        "\n",
        "            return gamma_noisy * x_normalized + bias"
      ],
      "metadata": {
        "id": "xR4CKlFH3P4w"
      },
      "execution_count": 16,
      "outputs": []
    },
    {
      "cell_type": "code",
      "source": [
        "class ABNNLoss(torch.nn.Module):\n",
        "    def __init__(self, Num_classes, model_parameters, Weight_decay=1e-4):\n",
        "        super(ABNNLoss, self).__init__()\n",
        "        self.model_parameters = model_parameters\n",
        "        self.Weight_decay = Weight_decay\n",
        "        self.eta = nn.Parameter(torch.ones(Num_classes))\n",
        "\n",
        "    def forward(self, outputs, labels):\n",
        "        # Calculate the three loss components\n",
        "        nll_loss = self.negative_log_likelihood(outputs, labels)\n",
        "        log_prior_loss = self.negative_log_prior(self.model_parameters, self.Weight_decay)\n",
        "        custom_ce_loss = self.custom_cross_entropy_loss(outputs, labels, self.eta)\n",
        "\n",
        "        # Sum up all three components to form the ABNN loss\n",
        "        total_loss = nll_loss + log_prior_loss + custom_ce_loss\n",
        "        return total_loss\n",
        "\n",
        "    @staticmethod\n",
        "    def negative_log_likelihood(outputs, labels):\n",
        "        # Negative Log Likelihood (NLL) or MLE Loss:\n",
        "        # NLL = -∑ log P(y_i | x_i, ω)\n",
        "        return torch.nn.functional.cross_entropy(outputs, labels)\n",
        "\n",
        "    def negative_log_prior(self, model_parameters, Weight_decay=1e-4):\n",
        "        # Negative Log Prior with Gaussian Prior (L2 Regularization):\n",
        "        # log P(ω) = λ ∑ ω^2 where λ (weight decay) = (1/2σ^2)\n",
        "        l2_reg = sum(p.pow(2).sum() for p in model_parameters)\n",
        "        return Weight_decay * l2_reg\n",
        "\n",
        "    def custom_cross_entropy_loss(self, outputs, labels, eta):\n",
        "        # Custom Cross-Entropy Loss:\n",
        "        # E(ω) = -∑ η_i log P(y_i | x_i, ω)\n",
        "        log_probs = torch.nn.functional.log_softmax(outputs, dim=1)\n",
        "        weighted_log_probs = eta[labels] * log_probs.gather(1, labels.unsqueeze(1)).squeeze(1)\n",
        "        return -torch.mean(weighted_log_probs)"
      ],
      "metadata": {
        "id": "x6rdkvC9GbEW"
      },
      "execution_count": 17,
      "outputs": []
    },
    {
      "cell_type": "markdown",
      "source": [
        "### Define the CNN's ABNN version"
      ],
      "metadata": {
        "id": "a1WXC6ajA2jg"
      }
    },
    {
      "cell_type": "code",
      "source": [
        "class ABNNNet(nn.Module):\n",
        "    def __init__(self):\n",
        "        super(ABNNNet, self).__init__()\n",
        "        self.conv1 = nn.Conv2d(3, 32, 3, padding=1)\n",
        "        self.bn1 = BNL(32)\n",
        "        self.conv2 = nn.Conv2d(32, 64, 3, padding=1)\n",
        "        self.in2 = BNL(64)\n",
        "        self.pool = nn.MaxPool2d(2, 2)\n",
        "        self.conv3 = nn.Conv2d(64, 128, 3, padding=1)\n",
        "        self.ln3 = BNL((128, 8, 8))\n",
        "        self.fc1 = nn.Linear(128 * 4 * 4, 256)\n",
        "        self.ln4 = BNL(256)\n",
        "        self.fc2 = nn.Linear(256, 128)\n",
        "        self.bn5 = BNL(128)\n",
        "        self.fc3 = nn.Linear(128, 10)\n",
        "\n",
        "    def forward(self, x):\n",
        "        x = self.conv1(x)\n",
        "        x = self.bn1(x)\n",
        "        x = F.relu(x)\n",
        "        x = self.pool(x)\n",
        "\n",
        "        x = self.conv2(x)\n",
        "        x = self.in2(x)\n",
        "        x = F.relu(x)\n",
        "        x = self.pool(x)\n",
        "\n",
        "        x = self.conv3(x)\n",
        "        x = self.ln3(x)\n",
        "        x = F.relu(x)\n",
        "        x = self.pool(x)\n",
        "\n",
        "        x = x.view(-1, 128 * 4 * 4)\n",
        "\n",
        "        x = self.fc1(x)\n",
        "        x = self.ln4(x)\n",
        "        x = F.relu(x)\n",
        "\n",
        "        x = self.fc2(x)\n",
        "        x = self.bn5(x)\n",
        "        x = F.relu(x)\n",
        "        x = self.fc3(x)\n",
        "        return x"
      ],
      "metadata": {
        "id": "lAic0WjdesGj",
        "execution": {
          "iopub.status.busy": "2024-06-05T14:45:07.159172Z",
          "iopub.execute_input": "2024-06-05T14:45:07.159611Z",
          "iopub.status.idle": "2024-06-05T14:45:07.179099Z",
          "shell.execute_reply.started": "2024-06-05T14:45:07.159580Z",
          "shell.execute_reply": "2024-06-05T14:45:07.177752Z"
        },
        "trusted": true
      },
      "execution_count": 18,
      "outputs": []
    },
    {
      "cell_type": "code",
      "source": [
        "# Check if GPU is available\n",
        "device = torch.device(\"cuda:0\" if torch.cuda.is_available() else \"cpu\")\n",
        "\n",
        "abnnnet = ABNNNet()\n",
        "abnnnet.to(device)\n",
        "\n",
        "# Print the summary of the model\n",
        "summary(abnnnet, (3, 32, 32))"
      ],
      "metadata": {
        "colab": {
          "base_uri": "https://localhost:8080/"
        },
        "id": "MeypozkVhdLg",
        "outputId": "da24cc04-4a30-4b02-ea3e-b7703f7a98bc",
        "execution": {
          "iopub.status.busy": "2024-06-05T14:45:08.265079Z",
          "iopub.execute_input": "2024-06-05T14:45:08.265673Z",
          "iopub.status.idle": "2024-06-05T14:45:08.302640Z",
          "shell.execute_reply.started": "2024-06-05T14:45:08.265631Z",
          "shell.execute_reply": "2024-06-05T14:45:08.300669Z"
        },
        "trusted": true
      },
      "execution_count": 19,
      "outputs": [
        {
          "output_type": "stream",
          "name": "stdout",
          "text": [
            "----------------------------------------------------------------\n",
            "        Layer (type)               Output Shape         Param #\n",
            "================================================================\n",
            "            Conv2d-1           [-1, 32, 32, 32]             896\n",
            "               BNL-2           [-1, 32, 32, 32]              64\n",
            "         MaxPool2d-3           [-1, 32, 16, 16]               0\n",
            "            Conv2d-4           [-1, 64, 16, 16]          18,496\n",
            "               BNL-5           [-1, 64, 16, 16]             128\n",
            "         MaxPool2d-6             [-1, 64, 8, 8]               0\n",
            "            Conv2d-7            [-1, 128, 8, 8]          73,856\n",
            "               BNL-8            [-1, 128, 8, 8]          16,384\n",
            "         MaxPool2d-9            [-1, 128, 4, 4]               0\n",
            "           Linear-10                  [-1, 256]         524,544\n",
            "              BNL-11                  [-1, 256]             512\n",
            "           Linear-12                  [-1, 128]          32,896\n",
            "              BNL-13                  [-1, 128]             256\n",
            "           Linear-14                   [-1, 10]           1,290\n",
            "================================================================\n",
            "Total params: 669,322\n",
            "Trainable params: 669,322\n",
            "Non-trainable params: 0\n",
            "----------------------------------------------------------------\n",
            "Input size (MB): 0.01\n",
            "Forward/backward pass size (MB): 0.99\n",
            "Params size (MB): 2.55\n",
            "Estimated Total Size (MB): 3.56\n",
            "----------------------------------------------------------------\n"
          ]
        }
      ]
    },
    {
      "cell_type": "markdown",
      "source": [
        "### Training the new model"
      ],
      "metadata": {
        "id": "5CcSbEhOiTst"
      }
    },
    {
      "cell_type": "code",
      "source": [
        "loss_func = ABNNLoss(10, abnnnet.parameters()).to(device)\n",
        "optimizer = optim.SGD(filter(lambda p: p.requires_grad, abnnnet.parameters()), lr=0.0057, momentum=0.9, weight_decay=5e-4)"
      ],
      "metadata": {
        "id": "V-1Y6JEqH9MW"
      },
      "execution_count": 20,
      "outputs": []
    },
    {
      "cell_type": "code",
      "source": [
        "state_dict = torch.load('./cifar_net.pth')\n",
        "\n",
        "# Filter out the keys related to running statistics that BNL doesn't use\n",
        "filtered_state_dict = {k: v for k, v in state_dict.items() if 'running_mean' not in k and 'running_var' not in k and 'num_batches_tracked' not in k}\n",
        "\n",
        "# Load the filtered state dictionary\n",
        "abnnnet.load_state_dict(filtered_state_dict, strict=True)\n",
        "print('Model weights loaded.')"
      ],
      "metadata": {
        "colab": {
          "base_uri": "https://localhost:8080/"
        },
        "id": "cItJ18hJH_fa",
        "outputId": "bb5f2234-30c5-4ae7-c4f5-1ce55dbb1c8b"
      },
      "execution_count": 24,
      "outputs": [
        {
          "output_type": "stream",
          "name": "stdout",
          "text": [
            "Model weights loaded.\n"
          ]
        }
      ]
    },
    {
      "cell_type": "code",
      "source": [
        "print(\"Keys in the state dictionary:\")\n",
        "for key in state_dict.keys():\n",
        "    print(key)"
      ],
      "metadata": {
        "colab": {
          "base_uri": "https://localhost:8080/"
        },
        "id": "4YQATWuG6QUk",
        "outputId": "70a73d5a-12b7-41b1-e1ec-1945b56bfc6e"
      },
      "execution_count": 25,
      "outputs": [
        {
          "output_type": "stream",
          "name": "stdout",
          "text": [
            "Keys in the state dictionary:\n",
            "conv1.weight\n",
            "conv1.bias\n",
            "bn1.weight\n",
            "bn1.bias\n",
            "bn1.running_mean\n",
            "bn1.running_var\n",
            "bn1.num_batches_tracked\n",
            "conv2.weight\n",
            "conv2.bias\n",
            "in2.weight\n",
            "in2.bias\n",
            "conv3.weight\n",
            "conv3.bias\n",
            "ln3.weight\n",
            "ln3.bias\n",
            "fc1.weight\n",
            "fc1.bias\n",
            "ln4.weight\n",
            "ln4.bias\n",
            "fc2.weight\n",
            "fc2.bias\n",
            "bn5.weight\n",
            "bn5.bias\n",
            "bn5.running_mean\n",
            "bn5.running_var\n",
            "bn5.num_batches_tracked\n",
            "fc3.weight\n",
            "fc3.bias\n"
          ]
        }
      ]
    },
    {
      "cell_type": "code",
      "source": [
        "print('Start Training')\n",
        "\n",
        "# Timing the training process\n",
        "start_time = time.time()\n",
        "\n",
        "# List to store loss values\n",
        "train_losses = []\n",
        "for epoch in range(20):\n",
        "    running_loss = 0.0\n",
        "    for i, data in enumerate(trainloader, 0):\n",
        "        inputs, labels = data[0].to(device), data[1].to(device)\n",
        "        eta = torch.rand(labels.size(0), device=device)\n",
        "\n",
        "        optimizer.zero_grad()\n",
        "        outputs = abnnnet(inputs)\n",
        "        loss = loss_func(outputs, labels)\n",
        "        loss.backward()\n",
        "        optimizer.step()\n",
        "\n",
        "        running_loss += loss.item()\n",
        "        train_losses.append(loss.item())\n",
        "    print(f'[Epoch {epoch + 1}, Loss: {running_loss}')\n",
        "    running_loss = 0.0\n",
        "\n",
        "end_time = time.time()\n",
        "\n",
        "print('Finished Training')\n",
        "print(f'Time taken to train the model: {end_time - start_time:.2f} seconds')"
      ],
      "metadata": {
        "colab": {
          "base_uri": "https://localhost:8080/"
        },
        "id": "7qA9IVGNIBon",
        "outputId": "de4cecce-6593-4f16-f745-04381e8a4b68"
      },
      "execution_count": 26,
      "outputs": [
        {
          "output_type": "stream",
          "name": "stdout",
          "text": [
            "Start Training\n",
            "[Epoch 1, Loss: 1256.3802634477615\n",
            "[Epoch 2, Loss: 931.4795205593109\n",
            "[Epoch 3, Loss: 853.3990067243576\n",
            "[Epoch 4, Loss: 817.771817445755\n",
            "[Epoch 5, Loss: 793.523169875145\n",
            "[Epoch 6, Loss: 770.1933164596558\n",
            "[Epoch 7, Loss: 755.0068476200104\n",
            "[Epoch 8, Loss: 735.917240023613\n",
            "[Epoch 9, Loss: 725.2883818149567\n",
            "[Epoch 10, Loss: 713.6974112987518\n",
            "[Epoch 11, Loss: 702.5278379917145\n",
            "[Epoch 12, Loss: 693.9569231271744\n",
            "[Epoch 13, Loss: 679.0479393005371\n",
            "[Epoch 14, Loss: 680.1117898225784\n",
            "[Epoch 15, Loss: 665.6557961702347\n",
            "[Epoch 16, Loss: 670.6050525903702\n",
            "[Epoch 17, Loss: 658.3752547502518\n",
            "[Epoch 18, Loss: 657.5034958124161\n",
            "[Epoch 19, Loss: 648.2052940130234\n",
            "[Epoch 20, Loss: 642.9247715473175\n",
            "Finished Training\n",
            "Time taken to train the model: 547.83 seconds\n"
          ]
        }
      ]
    },
    {
      "cell_type": "code",
      "source": [
        "# Make sure the model is in evaluation mode\n",
        "abnnnet.eval()\n",
        "\n",
        "# Variables to track the correct predictions and total predictions\n",
        "correct = 0\n",
        "total = 0\n",
        "\n",
        "# Ensure no gradients are calculated as we are only making predictions\n",
        "with torch.no_grad():\n",
        "    for data in testloader:\n",
        "        images, labels = data[0].to(device), data[1].to(device)\n",
        "\n",
        "        # Collect predictions from multiple evaluations\n",
        "        predictions = []\n",
        "        for _ in range(50):\n",
        "            outputs = abnnnet(images)\n",
        "            _, preds = torch.max(outputs.data, 1)\n",
        "            predictions.append(preds)\n",
        "\n",
        "        # Calculate the mode of the predictions\n",
        "        predictions = torch.stack(predictions)\n",
        "        predicted, _ = torch.mode(predictions, dim=0)\n",
        "\n",
        "        # Update total and correct counts\n",
        "        total += labels.size(0)\n",
        "        correct += (predicted == labels).sum().item()\n",
        "\n",
        "# Calculate the accuracy\n",
        "accuracy = 100 * correct / total\n",
        "print(f'Accuracy of the network on the test images: {accuracy:.2f}%')"
      ],
      "metadata": {
        "id": "3Kb9AruTdewi",
        "execution": {
          "iopub.status.busy": "2024-06-05T15:57:39.589885Z",
          "iopub.execute_input": "2024-06-05T15:57:39.590461Z"
        },
        "trusted": true,
        "colab": {
          "base_uri": "https://localhost:8080/"
        },
        "outputId": "b371f7e4-7dd4-4a1c-839a-51ad98ca9097"
      },
      "execution_count": 27,
      "outputs": [
        {
          "output_type": "stream",
          "name": "stdout",
          "text": [
            "Accuracy of the network on the test images: 78.48%\n"
          ]
        }
      ]
    },
    {
      "cell_type": "code",
      "source": [
        "# # Instantiate the custom ABNN loss class\n",
        "# eta = torch.rand(64, device=device)  # Adjust the size of `eta` to match your batch size\n",
        "# criterion = ABNNLoss(weight_decay=5e-4).to(device)\n",
        "# optimizer = optim.SGD(filter(lambda p: p.requires_grad, abnnnet.parameters()), lr=0.0057, momentum=0.9, weight_decay=5e-4)"
      ],
      "metadata": {
        "id": "OcojbdwDhcjX",
        "execution": {
          "iopub.status.busy": "2024-06-05T14:45:10.683639Z",
          "iopub.execute_input": "2024-06-05T14:45:10.684585Z",
          "iopub.status.idle": "2024-06-05T14:45:10.690292Z",
          "shell.execute_reply.started": "2024-06-05T14:45:10.684537Z",
          "shell.execute_reply": "2024-06-05T14:45:10.688673Z"
        },
        "trusted": true
      },
      "execution_count": 28,
      "outputs": []
    },
    {
      "cell_type": "code",
      "source": [
        "# Save the trained model weights\n",
        "PATH = './cifar_abnnnet.pth'\n",
        "torch.save(abnnnet.state_dict(), PATH)\n",
        "print('Saved the model weights')"
      ],
      "metadata": {
        "colab": {
          "base_uri": "https://localhost:8080/"
        },
        "id": "IUQdPMFI9G08",
        "outputId": "d349ebf2-afef-4042-d454-024e3d322bbb"
      },
      "execution_count": 29,
      "outputs": [
        {
          "output_type": "stream",
          "name": "stdout",
          "text": [
            "Saved the model weights\n"
          ]
        }
      ]
    },
    {
      "cell_type": "markdown",
      "source": [
        "## Download the generated outputs (for colab)"
      ],
      "metadata": {
        "id": "e-67WomZ21Ua"
      }
    },
    {
      "cell_type": "code",
      "source": [
        "# from google.colab import files\n",
        "# files.download('/content/cifar_net.pth')\n",
        "# files.download('/content/ABNNNet.py')\n",
        "# files.download('/content/cifar_abnnnet.pth')"
      ],
      "metadata": {
        "id": "WcVxNm_J27z2"
      },
      "execution_count": null,
      "outputs": []
    }
  ]
}