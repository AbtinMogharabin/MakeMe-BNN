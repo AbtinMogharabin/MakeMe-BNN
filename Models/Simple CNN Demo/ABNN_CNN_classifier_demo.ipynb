{
  "cells": [
    {
      "cell_type": "markdown",
      "source": [
        "# An implementation of Adaptive Bayesian Neural Networks (ABNN) for a basic CNN image classifier on CIFAR-10 dataset"
      ],
      "metadata": {
        "id": "jBXHs2m0APxl"
      }
    },
    {
      "cell_type": "markdown",
      "metadata": {
        "id": "NW9xd8Xc3UqB"
      },
      "source": [
        "## Import libraries"
      ]
    },
    {
      "cell_type": "code",
      "source": [
        "!pip install netcal"
      ],
      "metadata": {
        "id": "Wvc77o82xGwt"
      },
      "execution_count": null,
      "outputs": []
    },
    {
      "cell_type": "code",
      "execution_count": null,
      "metadata": {
        "id": "REotBNCV3UqO"
      },
      "outputs": [],
      "source": [
        "import torch\n",
        "import torch.nn as nn\n",
        "import torch.optim as optim\n",
        "import torchvision\n",
        "import torchvision.transforms as transforms\n",
        "import matplotlib.pyplot as plt\n",
        "import time\n",
        "import numpy as np\n",
        "from torchsummary import summary\n",
        "from torch.nn.functional import softmax\n",
        "import torch.nn.functional as F\n",
        "import netcal.metrics as metrics\n",
        "from netcal.metrics import ECE\n",
        "from sklearn.metrics import precision_recall_curve, auc, roc_auc_score, roc_curve\n",
        "import sys\n",
        "import os\n",
        "\n",
        "# Get the current working directory of the notebook\n",
        "current_dir = os.path.dirname(os.path.abspath('__file__'))\n",
        "\n",
        "# Add the ABNN and 'Simple CNN Demo' directories to the Python path\n",
        "abnn_dir = os.path.abspath(os.path.join(current_dir, './MakeMe-BNN/ABNN'))\n",
        "if abnn_dir not in sys.path:\n",
        "    sys.path.insert(0, abnn_dir)\n",
        "demo_dir = os.path.abspath(os.path.join(current_dir, './MakeMe-BNN/Models/Simple CNN Demo'))\n",
        "if demo_dir not in sys.path:\n",
        "    sys.path.insert(0, demo_dir)\n",
        "\n",
        "# Now import the necessary modules\n",
        "from Simple_CNN import Net\n",
        "from ABNN import BNL, CustomMAPLoss, replace_normalization_layers\n",
        "from ABNN_Metrics import (\n",
        "    calculate_accuracy, calculate_uncertainty, calculate_nll, calculate_ece,\n",
        "    calculate_aupr, calculate_auc, calculate_fpr95, count_parameters,\n",
        "    predict_with_uncertainty, plot_uncertainty\n",
        ")\n",
        "\n",
        "# Set the start method to 'spawn'\n",
        "import multiprocessing\n",
        "multiprocessing.set_start_method('spawn', force=True)"
      ]
    },
    {
      "cell_type": "markdown",
      "source": [
        "##  Train the base model and save the weights"
      ],
      "metadata": {
        "id": "AoXdUp79d8CL"
      }
    },
    {
      "cell_type": "markdown",
      "metadata": {
        "id": "XFwNb7Gf3UqR"
      },
      "source": [
        "### Load and Augment CIFAR-10"
      ]
    },
    {
      "cell_type": "markdown",
      "source": [
        "Similar to the paper, I only use Horizontal Flip for data augmentation"
      ],
      "metadata": {
        "id": "uyQVyB3oCizi"
      }
    },
    {
      "cell_type": "code",
      "execution_count": null,
      "metadata": {
        "colab": {
          "base_uri": "https://localhost:8080/"
        },
        "id": "mSmx1nli3UqS",
        "outputId": "cd4b5d7a-82e6-4ba4-d2c3-cd181b565f4d"
      },
      "outputs": [
        {
          "output_type": "stream",
          "name": "stdout",
          "text": [
            "Downloading https://www.cs.toronto.edu/~kriz/cifar-10-python.tar.gz to ./data/cifar-10-python.tar.gz\n"
          ]
        },
        {
          "output_type": "stream",
          "name": "stderr",
          "text": [
            "100%|██████████| 170498071/170498071 [00:02<00:00, 68488387.16it/s]\n"
          ]
        },
        {
          "output_type": "stream",
          "name": "stdout",
          "text": [
            "Extracting ./data/cifar-10-python.tar.gz to ./data\n",
            "Files already downloaded and verified\n"
          ]
        }
      ],
      "source": [
        "transform = transforms.Compose(\n",
        "    [transforms.RandomHorizontalFlip(),\n",
        "     transforms.ToTensor(),\n",
        "     transforms.Normalize((0.5, 0.5, 0.5), (0.5, 0.5, 0.5))])\n",
        "\n",
        "trainset = torchvision.datasets.CIFAR10(root='./data', train=True,\n",
        "                                        download=True, transform=transform)\n",
        "trainloader = torch.utils.data.DataLoader(trainset, batch_size=4,\n",
        "                                          shuffle=True, num_workers=2)\n",
        "\n",
        "testset = torchvision.datasets.CIFAR10(root='./data', train=False,\n",
        "                                       download=True, transform=transform)\n",
        "testloader = torch.utils.data.DataLoader(testset, batch_size=4,\n",
        "                                         shuffle=False, num_workers=2)\n",
        "\n",
        "classes = ('plane', 'car', 'bird', 'cat', 'deer', 'dog', 'frog', 'horse', 'ship', 'truck')"
      ]
    },
    {
      "cell_type": "markdown",
      "metadata": {
        "id": "AL7gMgK93UqT"
      },
      "source": [
        "### Define the base CNN model"
      ]
    },
    {
      "cell_type": "code",
      "source": [
        "net = Net()\n",
        "print(net)"
      ],
      "metadata": {
        "id": "a4UNu1Ei4qr4",
        "colab": {
          "base_uri": "https://localhost:8080/"
        },
        "outputId": "7e4eacd8-d487-49e2-c654-a44eaa7257e5"
      },
      "execution_count": null,
      "outputs": [
        {
          "output_type": "stream",
          "name": "stdout",
          "text": [
            "Net(\n",
            "  (conv1): Conv2d(3, 32, kernel_size=(3, 3), stride=(1, 1), padding=(1, 1))\n",
            "  (bn1): BatchNorm2d(32, eps=1e-05, momentum=0.1, affine=True, track_running_stats=True)\n",
            "  (conv2): Conv2d(32, 64, kernel_size=(3, 3), stride=(1, 1), padding=(1, 1))\n",
            "  (bn2): BatchNorm2d(64, eps=1e-05, momentum=0.1, affine=True, track_running_stats=True)\n",
            "  (pool): MaxPool2d(kernel_size=2, stride=2, padding=0, dilation=1, ceil_mode=False)\n",
            "  (conv3): Conv2d(64, 128, kernel_size=(3, 3), stride=(1, 1), padding=(1, 1))\n",
            "  (bn3): BatchNorm2d(128, eps=1e-05, momentum=0.1, affine=True, track_running_stats=True)\n",
            "  (fc1): Linear(in_features=2048, out_features=256, bias=True)\n",
            "  (bn4): BatchNorm1d(256, eps=1e-05, momentum=0.1, affine=True, track_running_stats=True)\n",
            "  (fc2): Linear(in_features=256, out_features=128, bias=True)\n",
            "  (bn5): BatchNorm1d(128, eps=1e-05, momentum=0.1, affine=True, track_running_stats=True)\n",
            "  (fc3): Linear(in_features=128, out_features=10, bias=True)\n",
            ")\n"
          ]
        }
      ]
    },
    {
      "cell_type": "code",
      "source": [
        "# Print the summary of the model\n",
        "summary(net, (3, 32, 32))"
      ],
      "metadata": {
        "colab": {
          "base_uri": "https://localhost:8080/"
        },
        "id": "4C0LFYpR44gh",
        "outputId": "624d49f5-e5ee-4be0-d2b5-25a8bd5e9f60"
      },
      "execution_count": null,
      "outputs": [
        {
          "output_type": "stream",
          "name": "stdout",
          "text": [
            "----------------------------------------------------------------\n",
            "        Layer (type)               Output Shape         Param #\n",
            "================================================================\n",
            "            Conv2d-1           [-1, 32, 32, 32]             896\n",
            "       BatchNorm2d-2           [-1, 32, 32, 32]              64\n",
            "         MaxPool2d-3           [-1, 32, 16, 16]               0\n",
            "            Conv2d-4           [-1, 64, 16, 16]          18,496\n",
            "       BatchNorm2d-5           [-1, 64, 16, 16]             128\n",
            "         MaxPool2d-6             [-1, 64, 8, 8]               0\n",
            "            Conv2d-7            [-1, 128, 8, 8]          73,856\n",
            "       BatchNorm2d-8            [-1, 128, 8, 8]             256\n",
            "         MaxPool2d-9            [-1, 128, 4, 4]               0\n",
            "           Linear-10                  [-1, 256]         524,544\n",
            "      BatchNorm1d-11                  [-1, 256]             512\n",
            "           Linear-12                  [-1, 128]          32,896\n",
            "      BatchNorm1d-13                  [-1, 128]             256\n",
            "           Linear-14                   [-1, 10]           1,290\n",
            "================================================================\n",
            "Total params: 653,194\n",
            "Trainable params: 653,194\n",
            "Non-trainable params: 0\n",
            "----------------------------------------------------------------\n",
            "Input size (MB): 0.01\n",
            "Forward/backward pass size (MB): 0.99\n",
            "Params size (MB): 2.49\n",
            "Estimated Total Size (MB): 3.49\n",
            "----------------------------------------------------------------\n"
          ]
        }
      ]
    },
    {
      "cell_type": "markdown",
      "source": [
        "### Train the base CNN model"
      ],
      "metadata": {
        "id": "cS3UXMDZwmM4"
      }
    },
    {
      "cell_type": "markdown",
      "source": [
        "For the training of our base model, I use standard image classification methods: standard cross-entropy loss and SGD"
      ],
      "metadata": {
        "id": "zvc2_IXbDuNK"
      }
    },
    {
      "cell_type": "code",
      "execution_count": null,
      "metadata": {
        "id": "5kIIN6kx3UqW"
      },
      "outputs": [],
      "source": [
        "criterion = nn.CrossEntropyLoss()\n",
        "optimizer = optim.SGD(net.parameters(), lr=0.01, momentum=0.9, weight_decay=5e-4)"
      ]
    },
    {
      "cell_type": "code",
      "source": [
        "# Timing the training process\n",
        "start_time = time.time()\n",
        "\n",
        "# Training\n",
        "for epoch in range(10):\n",
        "    running_loss = 0.0\n",
        "    for i, data in enumerate(trainloader, 0):\n",
        "        inputs, labels = data\n",
        "\n",
        "        optimizer.zero_grad()\n",
        "\n",
        "        outputs = net(inputs)\n",
        "        loss = criterion(outputs, labels)\n",
        "        loss.backward()\n",
        "        optimizer.step()\n",
        "\n",
        "        running_loss += loss.item()\n",
        "        if i % 3000 == 2999:\n",
        "            print(f'[epoch {epoch + 1}, mini-batch {i + 1:5d}] loss: {running_loss / 3000:.6f}')\n",
        "            running_loss = 0.0\n",
        "end_time = time.time()\n",
        "\n",
        "print('Finished Training')\n",
        "print(f'Time taken to train the model: {end_time - start_time:.2f} seconds')"
      ],
      "metadata": {
        "colab": {
          "base_uri": "https://localhost:8080/"
        },
        "id": "Mc-ZwEfR-Jvb",
        "outputId": "80241e22-9011-4151-c29a-b56296fbf269"
      },
      "execution_count": null,
      "outputs": [
        {
          "output_type": "stream",
          "name": "stdout",
          "text": [
            "[epoch 1, mini-batch  3000] loss: 1.984930\n",
            "[epoch 1, mini-batch  6000] loss: 1.762789\n",
            "[epoch 1, mini-batch  9000] loss: 1.646787\n",
            "[epoch 1, mini-batch 12000] loss: 1.572071\n",
            "[epoch 2, mini-batch  3000] loss: 1.482042\n",
            "[epoch 2, mini-batch  6000] loss: 1.450515\n",
            "[epoch 2, mini-batch  9000] loss: 1.399862\n",
            "[epoch 2, mini-batch 12000] loss: 1.387563\n",
            "[epoch 3, mini-batch  3000] loss: 1.352353\n",
            "[epoch 3, mini-batch  6000] loss: 1.369324\n",
            "[epoch 3, mini-batch  9000] loss: 1.362655\n",
            "[epoch 3, mini-batch 12000] loss: 1.342339\n",
            "[epoch 4, mini-batch  3000] loss: 1.316722\n",
            "[epoch 4, mini-batch  6000] loss: 1.328776\n",
            "[epoch 4, mini-batch  9000] loss: 1.305333\n",
            "[epoch 4, mini-batch 12000] loss: 1.322257\n",
            "[epoch 5, mini-batch  3000] loss: 1.295863\n",
            "[epoch 5, mini-batch  6000] loss: 1.305171\n",
            "[epoch 5, mini-batch  9000] loss: 1.289195\n",
            "[epoch 5, mini-batch 12000] loss: 1.316605\n",
            "[epoch 6, mini-batch  3000] loss: 1.269389\n",
            "[epoch 6, mini-batch  6000] loss: 1.284552\n",
            "[epoch 6, mini-batch  9000] loss: 1.278416\n",
            "[epoch 6, mini-batch 12000] loss: 1.300378\n",
            "[epoch 7, mini-batch  3000] loss: 1.263318\n",
            "[epoch 7, mini-batch  6000] loss: 1.263384\n",
            "[epoch 7, mini-batch  9000] loss: 1.279186\n",
            "[epoch 7, mini-batch 12000] loss: 1.272490\n",
            "[epoch 8, mini-batch  3000] loss: 1.258965\n",
            "[epoch 8, mini-batch  6000] loss: 1.256345\n",
            "[epoch 8, mini-batch  9000] loss: 1.271355\n",
            "[epoch 8, mini-batch 12000] loss: 1.262969\n",
            "[epoch 9, mini-batch  3000] loss: 1.264419\n",
            "[epoch 9, mini-batch  6000] loss: 1.252433\n",
            "[epoch 9, mini-batch  9000] loss: 1.233105\n",
            "[epoch 9, mini-batch 12000] loss: 1.269261\n",
            "[epoch 10, mini-batch  3000] loss: 1.242527\n",
            "[epoch 10, mini-batch  6000] loss: 1.236913\n",
            "[epoch 10, mini-batch  9000] loss: 1.268255\n",
            "[epoch 10, mini-batch 12000] loss: 1.258025\n",
            "Finished Training\n",
            "Time taken to train the model: 2928.50 seconds\n"
          ]
        }
      ]
    },
    {
      "cell_type": "markdown",
      "source": [
        "### Test and save the model's weights"
      ],
      "metadata": {
        "id": "OhKKLx5JAnzq"
      }
    },
    {
      "cell_type": "code",
      "source": [
        "accuracy = calculate_accuracy(testloader, net)"
      ],
      "metadata": {
        "colab": {
          "base_uri": "https://localhost:8080/"
        },
        "id": "7QNSWKlOuYi3",
        "outputId": "7f53f26a-8e85-4cf4-9e61-664674a7b70a"
      },
      "execution_count": null,
      "outputs": [
        {
          "output_type": "stream",
          "name": "stdout",
          "text": [
            "Accuracy of the network on the test images: 67.68%\n"
          ]
        }
      ]
    },
    {
      "cell_type": "code",
      "source": [
        "# Save the trained model weights\n",
        "PATH = './cifar_net.pth'\n",
        "torch.save(net.state_dict(), PATH)\n",
        "print('Saved the model weights')"
      ],
      "metadata": {
        "colab": {
          "base_uri": "https://localhost:8080/"
        },
        "id": "MlwO4roL3gqN",
        "outputId": "bb890b27-890a-4125-d5f3-1a38c69ad0da"
      },
      "execution_count": null,
      "outputs": [
        {
          "output_type": "stream",
          "name": "stdout",
          "text": [
            "Saved the model weights\n"
          ]
        }
      ]
    },
    {
      "cell_type": "markdown",
      "source": [
        "## Train the ABNN version"
      ],
      "metadata": {
        "id": "6S-mVSFzeH0b"
      }
    },
    {
      "cell_type": "markdown",
      "source": [
        "### Define the CNN's ABNN version"
      ],
      "metadata": {
        "id": "a1WXC6ajA2jg"
      }
    },
    {
      "cell_type": "code",
      "source": [
        "original_model_path = 'Simple_CNN.py' # The path of original DNN\n",
        "new_model_name = 'ABNNNet'        # The name of the new model\n",
        "save_new_model='ABNNNet.py'       # The file to save the new model\n",
        "replace_normalization_layers(original_model_path, new_model_name, save_new_model)\n",
        "\n",
        "from ABNNNet import ABNNNet\n",
        "abnnnet = ABNNNet()\n",
        "print(abnnnet)"
      ],
      "metadata": {
        "id": "lAic0WjdesGj",
        "colab": {
          "base_uri": "https://localhost:8080/"
        },
        "outputId": "44ccb9fa-7cda-4831-d380-d31f6b3dbf50"
      },
      "execution_count": null,
      "outputs": [
        {
          "output_type": "stream",
          "name": "stdout",
          "text": [
            "Modified model saved to ABNNNet.py\n",
            "ABNNNet(\n",
            "  (conv1): Conv2d(3, 32, kernel_size=(3, 3), stride=(1, 1), padding=(1, 1))\n",
            "  (bn1): BNL()\n",
            "  (conv2): Conv2d(32, 64, kernel_size=(3, 3), stride=(1, 1), padding=(1, 1))\n",
            "  (bn2): BNL()\n",
            "  (pool): MaxPool2d(kernel_size=2, stride=2, padding=0, dilation=1, ceil_mode=False)\n",
            "  (conv3): Conv2d(64, 128, kernel_size=(3, 3), stride=(1, 1), padding=(1, 1))\n",
            "  (bn3): BNL()\n",
            "  (fc1): Linear(in_features=2048, out_features=256, bias=True)\n",
            "  (bn4): BNL()\n",
            "  (fc2): Linear(in_features=256, out_features=128, bias=True)\n",
            "  (bn5): BNL()\n",
            "  (fc3): Linear(in_features=128, out_features=10, bias=True)\n",
            ")\n"
          ]
        }
      ]
    },
    {
      "cell_type": "code",
      "source": [
        "# Print the summary of the model\n",
        "summary(abnnnet, (3, 32, 32))"
      ],
      "metadata": {
        "colab": {
          "base_uri": "https://localhost:8080/"
        },
        "id": "MeypozkVhdLg",
        "outputId": "c1474c4d-f272-41f2-9492-321eaab08537"
      },
      "execution_count": null,
      "outputs": [
        {
          "output_type": "stream",
          "name": "stdout",
          "text": [
            "----------------------------------------------------------------\n",
            "        Layer (type)               Output Shape         Param #\n",
            "================================================================\n",
            "            Conv2d-1           [-1, 32, 32, 32]             896\n",
            "               BNL-2           [-1, 32, 32, 32]               0\n",
            "         MaxPool2d-3           [-1, 32, 16, 16]               0\n",
            "            Conv2d-4           [-1, 64, 16, 16]          18,496\n",
            "               BNL-5           [-1, 64, 16, 16]               0\n",
            "         MaxPool2d-6             [-1, 64, 8, 8]               0\n",
            "            Conv2d-7            [-1, 128, 8, 8]          73,856\n",
            "               BNL-8            [-1, 128, 8, 8]               0\n",
            "         MaxPool2d-9            [-1, 128, 4, 4]               0\n",
            "           Linear-10                  [-1, 256]         524,544\n",
            "              BNL-11                  [-1, 256]               0\n",
            "           Linear-12                  [-1, 128]          32,896\n",
            "              BNL-13                  [-1, 128]               0\n",
            "           Linear-14                   [-1, 10]           1,290\n",
            "================================================================\n",
            "Total params: 651,978\n",
            "Trainable params: 651,978\n",
            "Non-trainable params: 0\n",
            "----------------------------------------------------------------\n",
            "Input size (MB): 0.01\n",
            "Forward/backward pass size (MB): 0.99\n",
            "Params size (MB): 2.49\n",
            "Estimated Total Size (MB): 3.49\n",
            "----------------------------------------------------------------\n"
          ]
        }
      ]
    },
    {
      "cell_type": "markdown",
      "source": [
        "### Training the new model"
      ],
      "metadata": {
        "id": "5CcSbEhOiTst"
      }
    },
    {
      "cell_type": "code",
      "source": [
        "criterion = CustomMAPLoss(num_classes=10)\n",
        "optimizer = optim.SGD(filter(lambda p: p.requires_grad, abnnnet.parameters()), lr=0.0057, momentum=0.9, weight_decay=5e-4)"
      ],
      "metadata": {
        "id": "OcojbdwDhcjX"
      },
      "execution_count": null,
      "outputs": []
    },
    {
      "cell_type": "code",
      "source": [
        "PATH = './cifar_net.pth'\n",
        "abnnnet.load_state_dict(torch.load(PATH), strict=False)\n",
        "print('Model weights loaded.')\n",
        "print('Start Training')\n",
        "# Timing the training process\n",
        "start_time = time.time()\n",
        "\n",
        "for epoch in range(3):\n",
        "    running_loss = 0.0\n",
        "    for i, data in enumerate(trainloader, 0):\n",
        "        inputs, labels = data\n",
        "\n",
        "        optimizer.zero_grad()\n",
        "\n",
        "        outputs = abnnnet(inputs)\n",
        "        loss = criterion(outputs, labels, abnnnet)\n",
        "        loss.backward()\n",
        "        optimizer.step()\n",
        "\n",
        "        running_loss += loss.item()\n",
        "        if i % 3000 == 2999:\n",
        "            print(f'[epoch {epoch + 1}, mini-batch {i + 1:5d}] loss: {running_loss / 3000:.6f}')\n",
        "            running_loss = 0.0\n",
        "end_time = time.time()\n",
        "\n",
        "print('Finished Training')\n",
        "print(f'Time taken to train the model: {end_time - start_time:.2f} seconds')"
      ],
      "metadata": {
        "colab": {
          "base_uri": "https://localhost:8080/"
        },
        "id": "-Nt32zhNiPIx",
        "outputId": "9597cbd3-6504-4534-f60a-dd884e654842"
      },
      "execution_count": null,
      "outputs": [
        {
          "output_type": "stream",
          "name": "stdout",
          "text": [
            "Model weights loaded.\n",
            "Start Training\n",
            "[epoch 1, mini-batch  3000] loss: 2.177202\n",
            "[epoch 1, mini-batch  6000] loss: 2.085917\n",
            "[epoch 1, mini-batch  9000] loss: 2.028962\n",
            "[epoch 1, mini-batch 12000] loss: 2.004952\n",
            "[epoch 2, mini-batch  3000] loss: 1.998862\n",
            "[epoch 2, mini-batch  6000] loss: 1.990415\n",
            "[epoch 2, mini-batch  9000] loss: 1.989050\n",
            "[epoch 2, mini-batch 12000] loss: 1.992181\n",
            "[epoch 3, mini-batch  3000] loss: 1.961534\n",
            "[epoch 3, mini-batch  6000] loss: 1.979561\n",
            "[epoch 3, mini-batch  9000] loss: 1.976655\n",
            "[epoch 3, mini-batch 12000] loss: 1.943315\n",
            "Finished Training\n",
            "Time taken to train the model: 1300.32 seconds\n"
          ]
        }
      ]
    },
    {
      "cell_type": "code",
      "source": [
        "# Save the trained model weights\n",
        "PATH = './cifar_abnnnet.pth'\n",
        "torch.save(abnnnet.state_dict(), PATH)\n",
        "print('Saved the model weights')"
      ],
      "metadata": {
        "colab": {
          "base_uri": "https://localhost:8080/"
        },
        "id": "IUQdPMFI9G08",
        "outputId": "3c18b4e4-64c5-4bfa-dab5-d1d8cdd5feef"
      },
      "execution_count": null,
      "outputs": [
        {
          "output_type": "stream",
          "name": "stdout",
          "text": [
            "Saved the model weights\n"
          ]
        }
      ]
    },
    {
      "cell_type": "markdown",
      "source": [
        "## Calculate the ABNN model's evaluation metrics according to the paper"
      ],
      "metadata": {
        "id": "IpQxUPVV6VPH"
      }
    },
    {
      "cell_type": "markdown",
      "source": [
        "### Accuracy (Acc)"
      ],
      "metadata": {
        "id": "YAas1qBvIovm"
      }
    },
    {
      "cell_type": "code",
      "source": [
        "acc = calculate_accuracy(testloader, abnnnet)"
      ],
      "metadata": {
        "colab": {
          "base_uri": "https://localhost:8080/"
        },
        "id": "K8tqAW265z7g",
        "outputId": "b50b6401-ebb0-4900-8b9e-ba0fe967ffff"
      },
      "execution_count": null,
      "outputs": [
        {
          "output_type": "stream",
          "name": "stdout",
          "text": [
            "Accuracy of the network on the test images: 25.79%\n"
          ]
        }
      ]
    },
    {
      "cell_type": "markdown",
      "source": [
        "### Uncertainty"
      ],
      "metadata": {
        "id": "IPppy_FS52vd"
      }
    },
    {
      "cell_type": "code",
      "source": [
        "uncertainties = calculate_uncertainty(testloader, abnnnet)"
      ],
      "metadata": {
        "colab": {
          "base_uri": "https://localhost:8080/"
        },
        "id": "NyqMYHTZ52h6",
        "outputId": "66bb460d-8240-439d-c104-7374e666003e"
      },
      "execution_count": null,
      "outputs": [
        {
          "output_type": "stream",
          "name": "stdout",
          "text": [
            "Average variance for class 0: 0.004643\n",
            "Average variance for class 1: 0.011140\n",
            "Average variance for class 2: 0.005432\n",
            "Average variance for class 3: 0.002364\n",
            "Average variance for class 4: 0.002836\n",
            "Average variance for class 5: 0.006568\n",
            "Average variance for class 6: 0.007841\n",
            "Average variance for class 7: 0.003800\n",
            "Average variance for class 8: 0.004747\n",
            "Average variance for class 9: 0.005300\n"
          ]
        }
      ]
    },
    {
      "cell_type": "markdown",
      "source": [
        "### Negative Log-Likelihood (NLL)"
      ],
      "metadata": {
        "id": "HYV-mZuBIqJa"
      }
    },
    {
      "cell_type": "code",
      "source": [
        "nll = calculate_nll(testloader, abnnnet, criterion)"
      ],
      "metadata": {
        "colab": {
          "base_uri": "https://localhost:8080/"
        },
        "id": "k2wLZC5k5-zb",
        "outputId": "1cf5c0c1-fac5-440c-effd-f1b39fa01244"
      },
      "execution_count": null,
      "outputs": [
        {
          "output_type": "stream",
          "name": "stdout",
          "text": [
            "Negative Log-Likelihood: 2.9404\n"
          ]
        }
      ]
    },
    {
      "cell_type": "markdown",
      "source": [
        "### Expected Calibration Error (ECE)"
      ],
      "metadata": {
        "id": "f8W_F8G-IzbY"
      }
    },
    {
      "cell_type": "code",
      "source": [
        "ece = calculate_ece(testloader, abnnnet)"
      ],
      "metadata": {
        "colab": {
          "base_uri": "https://localhost:8080/"
        },
        "id": "bdlb9MPo6BUF",
        "outputId": "d0d3df0a-6791-4c23-8427-b31f0853de33"
      },
      "execution_count": null,
      "outputs": [
        {
          "output_type": "stream",
          "name": "stdout",
          "text": [
            "Expected Calibration Error (ECE): 0.0210\n"
          ]
        }
      ]
    },
    {
      "cell_type": "markdown",
      "source": [
        "### Area Under the Precision-Recall Curve (AUPR)"
      ],
      "metadata": {
        "id": "to_mOzrTI2VV"
      }
    },
    {
      "cell_type": "code",
      "source": [
        "aupr = calculate_aupr(testloader, abnnnet)"
      ],
      "metadata": {
        "colab": {
          "base_uri": "https://localhost:8080/"
        },
        "id": "-prRaqhO6FLy",
        "outputId": "0cdf840f-d52b-464b-d0ac-dc369e798c41"
      },
      "execution_count": null,
      "outputs": [
        {
          "output_type": "stream",
          "name": "stdout",
          "text": [
            "Class 0: AUPR = 0.2546\n",
            "Class 1: AUPR = 0.3858\n",
            "Class 2: AUPR = 0.1805\n",
            "Class 3: AUPR = 0.1765\n",
            "Class 4: AUPR = 0.1875\n",
            "Class 5: AUPR = 0.2137\n",
            "Class 6: AUPR = 0.2512\n",
            "Class 7: AUPR = 0.2937\n",
            "Class 8: AUPR = 0.3469\n",
            "Class 9: AUPR = 0.2603\n",
            "Mean AUPR: 0.2551\n"
          ]
        }
      ]
    },
    {
      "cell_type": "markdown",
      "source": [
        "### Area Under the ROC Curve (AUC)"
      ],
      "metadata": {
        "id": "FpQrqv19I5gC"
      }
    },
    {
      "cell_type": "code",
      "source": [
        "auc = calculate_auc(testloader, abnnnet)"
      ],
      "metadata": {
        "colab": {
          "base_uri": "https://localhost:8080/"
        },
        "id": "WFeNLEVr6JGv",
        "outputId": "d2ec7010-6273-40a3-a14d-0ac9c2d6f463"
      },
      "execution_count": null,
      "outputs": [
        {
          "output_type": "stream",
          "name": "stdout",
          "text": [
            "Class 0: AUC = 0.7381\n",
            "Class 1: AUC = 0.8125\n",
            "Class 2: AUC = 0.6652\n",
            "Class 3: AUC = 0.6576\n",
            "Class 4: AUC = 0.6741\n",
            "Class 5: AUC = 0.6922\n",
            "Class 6: AUC = 0.7421\n",
            "Class 7: AUC = 0.7541\n",
            "Class 8: AUC = 0.7860\n",
            "Class 9: AUC = 0.7412\n",
            "Mean AUC: 0.7263\n"
          ]
        }
      ]
    },
    {
      "cell_type": "markdown",
      "source": [
        "### False Positive Rate at 95% True Positive Rate (FPR95)"
      ],
      "metadata": {
        "id": "DsCg3LDgI9zK"
      }
    },
    {
      "cell_type": "code",
      "source": [
        "fpr_95_recall = calculate_fpr95(testloader, abnnnet)"
      ],
      "metadata": {
        "colab": {
          "base_uri": "https://localhost:8080/"
        },
        "id": "iXw-TXvo6NkU",
        "outputId": "a65999b1-00de-4af0-e686-a1233a66ff1f"
      },
      "execution_count": null,
      "outputs": [
        {
          "output_type": "stream",
          "name": "stdout",
          "text": [
            "Class 0: FPR at 95% Recall = 0.7611\n",
            "Class 1: FPR at 95% Recall = 0.6862\n",
            "Class 2: FPR at 95% Recall = 0.8462\n",
            "Class 3: FPR at 95% Recall = 0.8402\n",
            "Class 4: FPR at 95% Recall = 0.8063\n",
            "Class 5: FPR at 95% Recall = 0.8379\n",
            "Class 6: FPR at 95% Recall = 0.7798\n",
            "Class 7: FPR at 95% Recall = 0.7908\n",
            "Class 8: FPR at 95% Recall = 0.6724\n",
            "Class 9: FPR at 95% Recall = 0.8111\n",
            "Mean FPR at 95% Recall: 0.7832\n"
          ]
        }
      ]
    },
    {
      "cell_type": "markdown",
      "source": [
        "### Number of Parameters ($\\Delta$Param)"
      ],
      "metadata": {
        "id": "BV9SutwYJAKV"
      }
    },
    {
      "cell_type": "code",
      "source": [
        "params = count_parameters(abnnnet)"
      ],
      "metadata": {
        "colab": {
          "base_uri": "https://localhost:8080/"
        },
        "id": "dJHIm-9C6Qqi",
        "outputId": "0c0fed77-757f-451e-bf8b-26457005a821"
      },
      "execution_count": null,
      "outputs": [
        {
          "output_type": "stream",
          "name": "stdout",
          "text": [
            "Number of Parameters: 654410\n"
          ]
        }
      ]
    },
    {
      "cell_type": "markdown",
      "source": [
        "## Train and test multiple models similar to the paper's approach to improve performance"
      ],
      "metadata": {
        "id": "QGjM8OySfpR1"
      }
    },
    {
      "cell_type": "code",
      "source": [
        "def train_abnn_models(num_models, trainloader, num_classes, num_epochs, pretrained_weights_path, save_dir):\n",
        "    \"\"\"\n",
        "    Train multiple ABNN models and save their weights.\n",
        "\n",
        "    Parameters:\n",
        "    - num_models: Number of models to train.\n",
        "    - trainloader: DataLoader for the training dataset.\n",
        "    - num_classes: Number of classes in the dataset.\n",
        "    - num_epochs: Number of epochs to train each model.\n",
        "    - pretrained_weights_path: Path to the pretrained weights.\n",
        "    - save_dir: Directory to save the trained model weights.\n",
        "\n",
        "    Returns:\n",
        "    - models: List of state dictionaries of the trained models.\n",
        "    \"\"\"\n",
        "    models = []\n",
        "    criterion = CustomMAPLoss(num_classes)\n",
        "    for model_idx in range(num_models):\n",
        "        abnnnet = ABNNNet()\n",
        "        PATH = pretrained_weights_path\n",
        "        abnnnet.load_state_dict(torch.load(PATH), strict=False)\n",
        "        optimizer = optim.SGD(abnnnet.parameters(), lr=0.001, momentum=0.9)\n",
        "        for epoch in range(num_epochs):\n",
        "            running_loss = 0.0\n",
        "            for i, data in enumerate(trainloader, 0):\n",
        "                inputs, labels = data\n",
        "                optimizer.zero_grad()\n",
        "                outputs = abnnnet(inputs)\n",
        "                loss = criterion(outputs, labels, abnnnet)\n",
        "                loss.backward()\n",
        "                optimizer.step()\n",
        "                running_loss += loss.item()\n",
        "                if i % 3000 == 2999:\n",
        "                    print(f'Model {model_idx + 1} [epoch {epoch + 1}, mini-batch {i + 1:5d}] loss: {running_loss / 3000:.6f}')\n",
        "                    running_loss = 0.0\n",
        "        # Save the trained model weights\n",
        "        model_path = f\"{save_dir}/abnnnet_model_{model_idx + 1}.pth\"\n",
        "        torch.save(abnnnet.state_dict(), model_path)\n",
        "        models.append(abnnnet.state_dict())\n",
        "        print(f\"Saved Model {model_idx + 1} weights to {model_path}\")\n",
        "    print('Finished Training')\n",
        "    return models\n",
        "\n",
        "save_dir = './trained_models'\n",
        "if not os.path.exists(save_dir):\n",
        "    os.makedirs(save_dir)\n",
        "\n",
        "start_time = time.time()\n",
        "\n",
        "# Train multiple ABNN models\n",
        "trained_models = train_abnn_models(\n",
        "    num_models=3,  # We train 3 versions similar to the paper\n",
        "    trainloader=trainloader,\n",
        "    num_classes=10,\n",
        "    num_epochs=3,\n",
        "    pretrained_weights_path='./cifar_net.pth',\n",
        "    save_dir='./trained_models'\n",
        ")\n",
        "\n",
        "end_time = time.time()\n",
        "print(f'Time taken to train the models: {end_time - start_time:.2f} seconds')"
      ],
      "metadata": {
        "colab": {
          "base_uri": "https://localhost:8080/"
        },
        "id": "Mrp_r7AWZxJi",
        "outputId": "99177305-f32a-4ba5-a834-199a46d17b53"
      },
      "execution_count": null,
      "outputs": [
        {
          "output_type": "stream",
          "name": "stdout",
          "text": [
            "Model 1 [epoch 1, mini-batch  3000] loss: 1.952117\n",
            "Model 1 [epoch 1, mini-batch  6000] loss: 1.779411\n",
            "Model 1 [epoch 1, mini-batch  9000] loss: 1.740775\n",
            "Model 1 [epoch 1, mini-batch 12000] loss: 1.742160\n",
            "Model 1 [epoch 2, mini-batch  3000] loss: 1.686947\n",
            "Model 1 [epoch 2, mini-batch  6000] loss: 1.676896\n",
            "Model 1 [epoch 2, mini-batch  9000] loss: 1.643096\n",
            "Model 1 [epoch 2, mini-batch 12000] loss: 1.658442\n",
            "Model 1 [epoch 3, mini-batch  3000] loss: 1.602314\n",
            "Model 1 [epoch 3, mini-batch  6000] loss: 1.626193\n",
            "Model 1 [epoch 3, mini-batch  9000] loss: 1.605556\n",
            "Model 1 [epoch 3, mini-batch 12000] loss: 1.626692\n",
            "Saved Model 1 weights to ./trained_models/abnnnet_model_1.pth\n",
            "Model 2 [epoch 1, mini-batch  3000] loss: 1.969540\n",
            "Model 2 [epoch 1, mini-batch  6000] loss: 1.818115\n",
            "Model 2 [epoch 1, mini-batch  9000] loss: 1.702458\n",
            "Model 2 [epoch 1, mini-batch 12000] loss: 1.737292\n",
            "Model 2 [epoch 2, mini-batch  3000] loss: 1.696037\n",
            "Model 2 [epoch 2, mini-batch  6000] loss: 1.688470\n",
            "Model 2 [epoch 2, mini-batch  9000] loss: 1.652692\n",
            "Model 2 [epoch 2, mini-batch 12000] loss: 1.679650\n",
            "Model 2 [epoch 3, mini-batch  3000] loss: 1.617942\n",
            "Model 2 [epoch 3, mini-batch  6000] loss: 1.642201\n",
            "Model 2 [epoch 3, mini-batch  9000] loss: 1.620629\n",
            "Model 2 [epoch 3, mini-batch 12000] loss: 1.613871\n",
            "Saved Model 2 weights to ./trained_models/abnnnet_model_2.pth\n",
            "Model 3 [epoch 1, mini-batch  3000] loss: 1.963740\n",
            "Model 3 [epoch 1, mini-batch  6000] loss: 1.804575\n",
            "Model 3 [epoch 1, mini-batch  9000] loss: 1.740775\n",
            "Model 3 [epoch 1, mini-batch 12000] loss: 1.731706\n",
            "Model 3 [epoch 2, mini-batch  3000] loss: 1.670295\n",
            "Model 3 [epoch 2, mini-batch  6000] loss: 1.687575\n",
            "Model 3 [epoch 2, mini-batch  9000] loss: 1.645156\n",
            "Model 3 [epoch 2, mini-batch 12000] loss: 1.636666\n",
            "Model 3 [epoch 3, mini-batch  3000] loss: 1.625431\n",
            "Model 3 [epoch 3, mini-batch  6000] loss: 1.585706\n",
            "Model 3 [epoch 3, mini-batch  9000] loss: 1.610293\n",
            "Model 3 [epoch 3, mini-batch 12000] loss: 1.595594\n",
            "Saved Model 3 weights to ./trained_models/abnnnet_model_3.pth\n",
            "Finished Training\n",
            "Time taken to train the models: 3850.10 seconds\n"
          ]
        }
      ]
    },
    {
      "cell_type": "code",
      "source": [
        "predictions, labels, predicted_classes = predict_with_uncertainty(ABNNNet, trained_models, testloader, num_samples=10, num_classes = 10)"
      ],
      "metadata": {
        "colab": {
          "base_uri": "https://localhost:8080/"
        },
        "id": "304DWOMp7PKr",
        "outputId": "58316464-8859-4b52-dee6-522060bc823f"
      },
      "execution_count": null,
      "outputs": [
        {
          "output_type": "stream",
          "name": "stdout",
          "text": [
            "Accuracy of the network on the test images: 26.54%\n",
            "Class 0 variance: 0.041707\n",
            "Class 1 variance: 0.046844\n",
            "Class 2 variance: 0.038842\n",
            "Class 3 variance: 0.035794\n",
            "Class 4 variance: 0.039320\n",
            "Class 5 variance: 0.039910\n",
            "Class 6 variance: 0.037829\n",
            "Class 7 variance: 0.039801\n",
            "Class 8 variance: 0.041630\n",
            "Class 9 variance: 0.044443\n"
          ]
        }
      ]
    },
    {
      "cell_type": "code",
      "source": [
        "plot_uncertainty(predictions, labels, num_classes=10)"
      ],
      "metadata": {
        "colab": {
          "base_uri": "https://localhost:8080/",
          "height": 564
        },
        "id": "btyVIWABASP2",
        "outputId": "30aec7a6-fb01-4593-d1ce-9758d3c6357a"
      },
      "execution_count": null,
      "outputs": [
        {
          "output_type": "display_data",
          "data": {
            "text/plain": [
              "<Figure size 1000x600 with 1 Axes>"
            ],
            "image/png": "[encoded data removed]"
          },
          "metadata": {}
        }
      ]
    },
    {
      "cell_type": "markdown",
      "source": [
        "## Download the generated outputs (for colab)"
      ],
      "metadata": {
        "id": "e-67WomZ21Ua"
      }
    },
    {
      "cell_type": "code",
      "source": [
        "# from google.colab import files\n",
        "# files.download('/content/cifar_net.pth')\n",
        "# files.download('/content/ABNNNet.py')\n",
        "# files.download('/content/cifar_abnnnet.pth')\n",
        "# files.download('/content/trained_models/abnnnet_model_1.pth')\n",
        "# files.download('/content/trained_models/abnnnet_model_2.pth')\n",
        "# files.download('/content/trained_models/abnnnet_model_3.pth')"
      ],
      "metadata": {
        "id": "WcVxNm_J27z2"
      },
      "execution_count": null,
      "outputs": []
    }
  ],
  "metadata": {
    "kernelspec": {
      "display_name": "Python 3",
      "language": "python",
      "name": "python3"
    },
    "language_info": {
      "codemirror_mode": {
        "name": "ipython",
        "version": 3
      },
      "file_extension": ".py",
      "mimetype": "text/x-python",
      "name": "python",
      "nbconvert_exporter": "python",
      "pygments_lexer": "ipython3",
      "version": "3.10.12"
    },
    "colab": {
      "provenance": [],
      "collapsed_sections": [
        "jBXHs2m0APxl",
        "NW9xd8Xc3UqB",
        "AoXdUp79d8CL",
        "XFwNb7Gf3UqR",
        "AL7gMgK93UqT",
        "cS3UXMDZwmM4",
        "OhKKLx5JAnzq",
        "6S-mVSFzeH0b",
        "a1WXC6ajA2jg",
        "5CcSbEhOiTst",
        "IpQxUPVV6VPH",
        "YAas1qBvIovm",
        "IPppy_FS52vd",
        "HYV-mZuBIqJa",
        "f8W_F8G-IzbY",
        "to_mOzrTI2VV",
        "FpQrqv19I5gC",
        "DsCg3LDgI9zK",
        "BV9SutwYJAKV",
        "QGjM8OySfpR1"
      ]
    }
  },
  "nbformat": 4,
  "nbformat_minor": 0
}